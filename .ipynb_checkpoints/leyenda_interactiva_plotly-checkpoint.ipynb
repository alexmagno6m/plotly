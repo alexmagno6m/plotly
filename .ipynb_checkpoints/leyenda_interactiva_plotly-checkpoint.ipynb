{
 "cells": [
  {
   "cell_type": "code",
   "execution_count": 9,
   "metadata": {},
   "outputs": [
    {
     "data": {
      "text/html": [
       "        <script type=\"text/javascript\">\n",
       "        window.PlotlyConfig = {MathJaxConfig: 'local'};\n",
       "        if (window.MathJax) {MathJax.Hub.Config({SVG: {font: \"STIX-Web\"}});}\n",
       "        if (typeof require !== 'undefined') {\n",
       "        require.undef(\"plotly\");\n",
       "        requirejs.config({\n",
       "            paths: {\n",
       "                'plotly': ['https://cdn.plot.ly/plotly-latest.min']\n",
       "            }\n",
       "        });\n",
       "        require(['plotly'], function(Plotly) {\n",
       "            window._Plotly = Plotly;\n",
       "        });\n",
       "        }\n",
       "        </script>\n",
       "        "
      ]
     },
     "metadata": {},
     "output_type": "display_data"
    },
    {
     "data": {
      "application/vnd.plotly.v1+json": {
       "config": {
        "linkText": "Export to plot.ly",
        "plotlyServerURL": "https://plot.ly",
        "showLink": false
       },
       "data": [
        {
         "marker": {
          "size": 20
         },
         "mode": "markers",
         "name": "juan garcia",
         "type": "scatter",
         "uid": "ff77d921-c5fc-40eb-8e34-713dc55b2bc4",
         "visible": "legendonly",
         "x": [
          1,
          2,
          3,
          4,
          5
         ],
         "y": [
          3,
          4,
          6,
          7,
          2
         ]
        },
        {
         "marker": {
          "size": 20
         },
         "mode": "markers",
         "name": "diana torres",
         "type": "scatter",
         "uid": "bc19d7ed-6139-4c8c-ae21-54a40feb8347",
         "visible": "legendonly",
         "x": [
          1,
          2,
          3,
          4,
          5
         ],
         "y": [
          2,
          6,
          8,
          9,
          7
         ]
        },
        {
         "marker": {
          "size": 20
         },
         "mode": "markers",
         "name": "luisa mejia",
         "type": "scatter",
         "uid": "47600f25-af65-4c51-814e-16a1402c56f1",
         "visible": "legendonly",
         "x": [
          1,
          2,
          3,
          4,
          5
         ],
         "y": [
          3,
          4,
          6,
          7,
          8
         ]
        }
       ],
       "layout": {
        "title": {
         "text": "Ejercicio",
         "x": 0,
         "xref": "paper"
        },
        "xaxis": {
         "tickmode": "array",
         "ticktext": [
          "Operaciones aritmeticas",
          "Potenciacion y Racionalizacion",
          "Racionales y Porcentajes",
          "Funciones",
          "Expresiones Algebraicas"
         ],
         "tickvals": [
          1,
          2,
          3,
          4,
          5
         ],
         "title": {
          "font": {
           "color": "#7f7f7f",
           "family": "Courier New, monospace",
           "size": 18
          },
          "text": "Procesos evaluados"
         }
        },
        "yaxis": {
         "title": {
          "font": {
           "color": "#7f7f7f",
           "family": "Courier New, monospace",
           "size": 18
          },
          "text": "Calificación"
         }
        }
       }
      },
      "text/html": [
       "<div>\n",
       "        \n",
       "        \n",
       "            <div id=\"eec4fa7a-15c2-4ee0-ae1b-3ba9593e8b79\" class=\"plotly-graph-div\" style=\"height:525px; width:100%;\"></div>\n",
       "            <script type=\"text/javascript\">\n",
       "                require([\"plotly\"], function(Plotly) {\n",
       "                    window.PLOTLYENV=window.PLOTLYENV || {};\n",
       "                    window.PLOTLYENV.BASE_URL='https://plot.ly';\n",
       "                    \n",
       "                if (document.getElementById(\"eec4fa7a-15c2-4ee0-ae1b-3ba9593e8b79\")) {\n",
       "                    Plotly.newPlot(\n",
       "                        'eec4fa7a-15c2-4ee0-ae1b-3ba9593e8b79',\n",
       "                        [{\"marker\": {\"size\": 20}, \"mode\": \"markers\", \"name\": \"juan garcia\", \"type\": \"scatter\", \"uid\": \"ff77d921-c5fc-40eb-8e34-713dc55b2bc4\", \"visible\": \"legendonly\", \"x\": [1, 2, 3, 4, 5], \"y\": [3, 4, 6, 7, 2]}, {\"marker\": {\"size\": 20}, \"mode\": \"markers\", \"name\": \"diana torres\", \"type\": \"scatter\", \"uid\": \"bc19d7ed-6139-4c8c-ae21-54a40feb8347\", \"visible\": \"legendonly\", \"x\": [1, 2, 3, 4, 5], \"y\": [2, 6, 8, 9, 7]}, {\"marker\": {\"size\": 20}, \"mode\": \"markers\", \"name\": \"luisa mejia\", \"type\": \"scatter\", \"uid\": \"47600f25-af65-4c51-814e-16a1402c56f1\", \"visible\": \"legendonly\", \"x\": [1, 2, 3, 4, 5], \"y\": [3, 4, 6, 7, 8]}],\n",
       "                        {\"title\": {\"text\": \"Ejercicio\", \"x\": 0, \"xref\": \"paper\"}, \"xaxis\": {\"tickmode\": \"array\", \"ticktext\": [\"Operaciones aritmeticas\", \"Potenciacion y Racionalizacion\", \"Racionales y Porcentajes\", \"Funciones\", \"Expresiones Algebraicas\"], \"tickvals\": [1, 2, 3, 4, 5], \"title\": {\"font\": {\"color\": \"#7f7f7f\", \"family\": \"Courier New, monospace\", \"size\": 18}, \"text\": \"Procesos evaluados\"}}, \"yaxis\": {\"title\": {\"font\": {\"color\": \"#7f7f7f\", \"family\": \"Courier New, monospace\", \"size\": 18}, \"text\": \"Calificaci\\u00f3n\"}}},\n",
       "                        {\"showLink\": false, \"linkText\": \"Export to plot.ly\", \"plotlyServerURL\": \"https://plot.ly\", \"responsive\": true}\n",
       "                    ).then(function(){\n",
       "                            \n",
       "var gd = document.getElementById('eec4fa7a-15c2-4ee0-ae1b-3ba9593e8b79');\n",
       "var x = new MutationObserver(function (mutations, observer) {{\n",
       "        var display = window.getComputedStyle(gd).display;\n",
       "        if (!display || display === 'none') {{\n",
       "            console.log([gd, 'removed!']);\n",
       "            Plotly.purge(gd);\n",
       "            observer.disconnect();\n",
       "        }}\n",
       "}});\n",
       "\n",
       "// Listen for the removal of the full notebook cells\n",
       "var notebookContainer = gd.closest('#notebook-container');\n",
       "if (notebookContainer) {{\n",
       "    x.observe(notebookContainer, {childList: true});\n",
       "}}\n",
       "\n",
       "// Listen for the clearing of the current output cell\n",
       "var outputEl = gd.closest('.output');\n",
       "if (outputEl) {{\n",
       "    x.observe(outputEl, {childList: true});\n",
       "}}\n",
       "\n",
       "                        })\n",
       "                };\n",
       "                });\n",
       "            </script>\n",
       "        </div>"
      ]
     },
     "metadata": {},
     "output_type": "display_data"
    }
   ],
   "source": [
    "import plotly.plotly as py\n",
    "import plotly.graph_objs as go\n",
    "import plotly\n",
    "import numpy as np\n",
    "plotly.offline.init_notebook_mode(connected=True)\n",
    "datosx = [1,2,3,4,5]\n",
    "datosy = np.array([[3,4,6,7,2],[2,6,8,9,7],[3,4,6,7,8]])\n",
    "names = ['juan garcia', 'diana torres', 'luisa mejia']\n",
    "trace =[]\n",
    "for i in range (3):\n",
    "    #tracei= (datosx, datosy[x])\n",
    "    trace1 = go.Scatter(x=datosx, y=datosy[i], name=names[i], mode='markers', \n",
    "                    marker=dict(size=20), visible=\"legendonly\")\n",
    "    trace.append(trace1)\n",
    "\n",
    "\n",
    "layout = go.Layout(\n",
    "        title=go.layout.Title(\n",
    "        text='Ejercicio',\n",
    "        xref='paper',\n",
    "        x=0\n",
    "    ),\n",
    "    xaxis=go.layout.XAxis(\n",
    "        tickmode = 'array',\n",
    "        tickvals = [1, 2, 3, 4, 5],\n",
    "        ticktext = ['Operaciones aritmeticas', 'Potenciacion y Racionalizacion', 'Racionales y Porcentajes', \n",
    "                    'Funciones', 'Expresiones Algebraicas'],\n",
    "        title=go.layout.xaxis.Title(\n",
    "            text='Procesos evaluados',\n",
    "            font=dict(\n",
    "                family='Courier New, monospace',\n",
    "                size=18,\n",
    "                color='#7f7f7f'\n",
    "                \n",
    "            )\n",
    "        )\n",
    "    ),\n",
    "    yaxis=go.layout.YAxis(\n",
    "        title=go.layout.yaxis.Title(\n",
    "            text='Calificación',\n",
    "            font=dict(\n",
    "                family='Courier New, monospace',\n",
    "                size=18,\n",
    "                color='#7f7f7f'\n",
    "            )\n",
    "        )\n",
    "    )\n",
    ")\n",
    "fig = go.Figure(data=trace, layout=layout)\n",
    "plotly.offline.iplot(fig)"
   ]
  },
  {
   "cell_type": "code",
   "execution_count": 11,
   "metadata": {},
   "outputs": [
    {
     "data": {
      "text/html": [
       "        <script type=\"text/javascript\">\n",
       "        window.PlotlyConfig = {MathJaxConfig: 'local'};\n",
       "        if (window.MathJax) {MathJax.Hub.Config({SVG: {font: \"STIX-Web\"}});}\n",
       "        if (typeof require !== 'undefined') {\n",
       "        require.undef(\"plotly\");\n",
       "        requirejs.config({\n",
       "            paths: {\n",
       "                'plotly': ['https://cdn.plot.ly/plotly-latest.min']\n",
       "            }\n",
       "        });\n",
       "        require(['plotly'], function(Plotly) {\n",
       "            window._Plotly = Plotly;\n",
       "        });\n",
       "        }\n",
       "        </script>\n",
       "        "
      ]
     },
     "metadata": {},
     "output_type": "display_data"
    }
   ],
   "source": [
    "import plotly.plotly as py\n",
    "import plotly.graph_objs as go\n",
    "import plotly\n",
    "import numpy as np\n",
    "plotly.offline.init_notebook_mode(connected=True)\n",
    "datosx = [1,2,3,4,5]\n",
    "datosy = np.array([[3,4,6,7,2],[2,6,8,9,7],[3,4,6,7,8]])\n",
    "names = ['juan garcia', 'diana torres', 'luisa mejia']\n",
    "trace =[]\n",
    "for i in range (3):\n",
    "    #tracei= (datosx, datosy[x])\n",
    "    trace1 = go.Scatter(x=datosx, y=datosy[i], name=names[i], mode='markers', \n",
    "                    marker=dict(size=20), visible=\"legendonly\")\n",
    "    trace.append(trace1)\n",
    "\n",
    "\n",
    "layout = go.Layout(\n",
    "        title=go.layout.Title(\n",
    "        text='Ejercicio',\n",
    "        xref='paper',\n",
    "        x=0\n",
    "    ),\n",
    "    xaxis=go.layout.XAxis(\n",
    "        tickmode = 'array',\n",
    "        tickvals = [1, 2, 3, 4, 5],\n",
    "        ticktext = ['Operaciones aritmeticas', 'Potenciacion y Racionalizacion', 'Racionales y Porcentajes', \n",
    "                    'Funciones', 'Expresiones Algebraicas'],\n",
    "        title=go.layout.xaxis.Title(\n",
    "            text='Procesos evaluados',\n",
    "            font=dict(\n",
    "                family='Courier New, monospace',\n",
    "                size=18,\n",
    "                color='#7f7f7f'\n",
    "                \n",
    "            )\n",
    "        )\n",
    "    ),\n",
    "    yaxis=go.layout.YAxis(\n",
    "        title=go.layout.yaxis.Title(\n",
    "            text='Calificación',\n",
    "            font=dict(\n",
    "                family='Courier New, monospace',\n",
    "                size=18,\n",
    "                color='#7f7f7f'\n",
    "            )\n",
    "        )\n",
    "    )\n",
    ")\n"
   ]
  },
  {
   "cell_type": "markdown",
   "metadata": {},
   "source": [
    "Para los nombres de los ejes se uso la siguiente referencia:\n",
    "https://plot.ly/python/tick-formatting/"
   ]
  },
  {
   "cell_type": "code",
   "execution_count": 10,
   "metadata": {},
   "outputs": [
    {
     "data": {
      "application/vnd.plotly.v1+json": {
       "config": {
        "linkText": "Export to plot.ly",
        "plotlyServerURL": "https://plot.ly",
        "showLink": false
       },
       "data": [
        {
         "marker": {
          "size": 20
         },
         "mode": "markers",
         "name": "juan garcia",
         "type": "scatter",
         "uid": "78afa7d6-22a5-4986-9011-8335659859b8",
         "visible": "legendonly",
         "x": [
          1,
          2,
          3,
          4,
          5
         ],
         "y": [
          3,
          4,
          6,
          7,
          2
         ]
        },
        {
         "marker": {
          "size": 20
         },
         "mode": "markers",
         "name": "diana torres",
         "type": "scatter",
         "uid": "0f5da1b8-eece-4f70-b29d-0be00ec81e76",
         "visible": "legendonly",
         "x": [
          1,
          2,
          3,
          4,
          5
         ],
         "y": [
          2,
          6,
          8,
          9,
          7
         ]
        },
        {
         "marker": {
          "size": 20
         },
         "mode": "markers",
         "name": "luisa mejia",
         "type": "scatter",
         "uid": "c5a10b79-e11e-4b63-a951-e2261b848021",
         "visible": "legendonly",
         "x": [
          1,
          2,
          3,
          4,
          5
         ],
         "y": [
          3,
          4,
          6,
          7,
          8
         ]
        }
       ],
       "layout": {
        "title": {
         "text": "Ejercicio",
         "x": 0,
         "xref": "paper"
        },
        "xaxis": {
         "tickmode": "array",
         "ticktext": [
          "Operaciones aritmeticas",
          "Potenciacion y Racionalizacion",
          "Racionales y Porcentajes",
          "Funciones",
          "Expresiones Algebraicas"
         ],
         "tickvals": [
          1,
          2,
          3,
          4,
          5
         ],
         "title": {
          "font": {
           "color": "#7f7f7f",
           "family": "Courier New, monospace",
           "size": 18
          },
          "text": "Procesos evaluados"
         }
        },
        "yaxis": {
         "title": {
          "font": {
           "color": "#7f7f7f",
           "family": "Courier New, monospace",
           "size": 18
          },
          "text": "Calificación"
         }
        }
       }
      },
      "text/html": [
       "<div>\n",
       "        \n",
       "        \n",
       "            <div id=\"3f7b1330-3241-484d-ae3a-3f4882dece4b\" class=\"plotly-graph-div\" style=\"height:525px; width:100%;\"></div>\n",
       "            <script type=\"text/javascript\">\n",
       "                require([\"plotly\"], function(Plotly) {\n",
       "                    window.PLOTLYENV=window.PLOTLYENV || {};\n",
       "                    window.PLOTLYENV.BASE_URL='https://plot.ly';\n",
       "                    \n",
       "                if (document.getElementById(\"3f7b1330-3241-484d-ae3a-3f4882dece4b\")) {\n",
       "                    Plotly.newPlot(\n",
       "                        '3f7b1330-3241-484d-ae3a-3f4882dece4b',\n",
       "                        [{\"marker\": {\"size\": 20}, \"mode\": \"markers\", \"name\": \"juan garcia\", \"type\": \"scatter\", \"uid\": \"78afa7d6-22a5-4986-9011-8335659859b8\", \"visible\": \"legendonly\", \"x\": [1, 2, 3, 4, 5], \"y\": [3, 4, 6, 7, 2]}, {\"marker\": {\"size\": 20}, \"mode\": \"markers\", \"name\": \"diana torres\", \"type\": \"scatter\", \"uid\": \"0f5da1b8-eece-4f70-b29d-0be00ec81e76\", \"visible\": \"legendonly\", \"x\": [1, 2, 3, 4, 5], \"y\": [2, 6, 8, 9, 7]}, {\"marker\": {\"size\": 20}, \"mode\": \"markers\", \"name\": \"luisa mejia\", \"type\": \"scatter\", \"uid\": \"c5a10b79-e11e-4b63-a951-e2261b848021\", \"visible\": \"legendonly\", \"x\": [1, 2, 3, 4, 5], \"y\": [3, 4, 6, 7, 8]}],\n",
       "                        {\"title\": {\"text\": \"Ejercicio\", \"x\": 0, \"xref\": \"paper\"}, \"xaxis\": {\"tickmode\": \"array\", \"ticktext\": [\"Operaciones aritmeticas\", \"Potenciacion y Racionalizacion\", \"Racionales y Porcentajes\", \"Funciones\", \"Expresiones Algebraicas\"], \"tickvals\": [1, 2, 3, 4, 5], \"title\": {\"font\": {\"color\": \"#7f7f7f\", \"family\": \"Courier New, monospace\", \"size\": 18}, \"text\": \"Procesos evaluados\"}}, \"yaxis\": {\"title\": {\"font\": {\"color\": \"#7f7f7f\", \"family\": \"Courier New, monospace\", \"size\": 18}, \"text\": \"Calificaci\\u00f3n\"}}},\n",
       "                        {\"showLink\": false, \"linkText\": \"Export to plot.ly\", \"plotlyServerURL\": \"https://plot.ly\", \"responsive\": true}\n",
       "                    ).then(function(){\n",
       "                            \n",
       "var gd = document.getElementById('3f7b1330-3241-484d-ae3a-3f4882dece4b');\n",
       "var x = new MutationObserver(function (mutations, observer) {{\n",
       "        var display = window.getComputedStyle(gd).display;\n",
       "        if (!display || display === 'none') {{\n",
       "            console.log([gd, 'removed!']);\n",
       "            Plotly.purge(gd);\n",
       "            observer.disconnect();\n",
       "        }}\n",
       "}});\n",
       "\n",
       "// Listen for the removal of the full notebook cells\n",
       "var notebookContainer = gd.closest('#notebook-container');\n",
       "if (notebookContainer) {{\n",
       "    x.observe(notebookContainer, {childList: true});\n",
       "}}\n",
       "\n",
       "// Listen for the clearing of the current output cell\n",
       "var outputEl = gd.closest('.output');\n",
       "if (outputEl) {{\n",
       "    x.observe(outputEl, {childList: true});\n",
       "}}\n",
       "\n",
       "                        })\n",
       "                };\n",
       "                });\n",
       "            </script>\n",
       "        </div>"
      ]
     },
     "metadata": {},
     "output_type": "display_data"
    }
   ],
   "source": [
    "fig = go.Figure(data=trace, layout=layout)\n",
    "plotly.offline.iplot(fig)"
   ]
  },
  {
   "cell_type": "code",
   "execution_count": null,
   "metadata": {},
   "outputs": [],
   "source": []
  }
 ],
 "metadata": {
  "kernelspec": {
   "display_name": "Python 3",
   "language": "python",
   "name": "python3"
  },
  "language_info": {
   "codemirror_mode": {
    "name": "ipython",
    "version": 3
   },
   "file_extension": ".py",
   "mimetype": "text/x-python",
   "name": "python",
   "nbconvert_exporter": "python",
   "pygments_lexer": "ipython3",
   "version": "3.7.3"
  }
 },
 "nbformat": 4,
 "nbformat_minor": 2
}

{
 "cells": [
  {
   "cell_type": "markdown",
   "metadata": {},
   "source": [
    "# Resultados Prueba Diagnóstica de Matemáticas - PreIcfes 2019"
   ]
  },
  {
   "cell_type": "markdown",
   "metadata": {},
   "source": [
    "A continuación se muestran los resultados obtenidos en la evaluación diagnóstica de matemáticas, la cual fue dividida en cinco grupos, cada uno tiene una califación máxima de 5.0, se condisera aprobado una nota igual o superior 3.0, los procesos evaluados y la cantidad de preguntas fueron:"
   ]
  },
  {
   "cell_type": "markdown",
   "metadata": {},
   "source": [
    "| Operaciones Aritméticas | Potenciación y Racionalización | Números racionales y Porcentajes | Funciones | Expresiones Algebraícas y Matemáticas | \n",
    "| --- | --- | --- | --- | --- |\n",
    "| 4 Preguntas | 7 Preguntas | 4 Preguntas | 3 Preguntas | 7 Preguntas |"
   ]
  },
  {
   "attachments": {
    "imagen1.PNG": {
     "image/png": "[encoded data removed]"
    }
   },
   "cell_type": "markdown",
   "metadata": {},
   "source": [
    "Los resultados fueron calculados usando __Python__, cuyo algoritmo se muestra mas abajo, en la parte final encuentra la gráfica con sus resultados, (el primer trazado que se muestra es el promedio del curso) debe seleccionar en la leyenda su nombre,como se describe en la siguiente imagen:\n",
    "![imagen1.PNG](attachment:imagen1.PNG)"
   ]
  },
  {
   "attachments": {
    "imagen2.PNG": {
     "image/png": "[encoded data removed]"
    }
   },
   "cell_type": "markdown",
   "metadata": {},
   "source": [
    "Luego de eso se resaltan sus resultados junto con el promedio obtenido con el curso, de esta forma los puede comparar y también el de otros estudiantes, después de activar sus resultados los puede guardar haciendo clic en el icono correspondiente de la barra de tareas:\n",
    "![imagen2.PNG](attachment:imagen2.PNG)"
   ]
  },
  {
   "cell_type": "markdown",
   "metadata": {},
   "source": [
    "## Algoritmo en Python##"
   ]
  },
  {
   "cell_type": "code",
   "execution_count": 1,
   "metadata": {},
   "outputs": [
    {
     "data": {
      "text/html": [
       "        <script type=\"text/javascript\">\n",
       "        window.PlotlyConfig = {MathJaxConfig: 'local'};\n",
       "        if (window.MathJax) {MathJax.Hub.Config({SVG: {font: \"STIX-Web\"}});}\n",
       "        if (typeof require !== 'undefined') {\n",
       "        require.undef(\"plotly\");\n",
       "        requirejs.config({\n",
       "            paths: {\n",
       "                'plotly': ['https://cdn.plot.ly/plotly-latest.min']\n",
       "            }\n",
       "        });\n",
       "        require(['plotly'], function(Plotly) {\n",
       "            window._Plotly = Plotly;\n",
       "        });\n",
       "        }\n",
       "        </script>\n",
       "        "
      ]
     },
     "metadata": {},
     "output_type": "display_data"
    },
    {
     "data": {
      "application/vnd.plotly.v1+json": {
       "config": {
        "linkText": "Export to plot.ly",
        "plotlyServerURL": "https://plot.ly",
        "showLink": false
       },
       "data": [
        {
         "marker": {
          "size": 20
         },
         "name": "Sofia Ardila",
         "type": "scatter",
         "uid": "72bc463e-6b04-4935-a7f3-ee4579a47a6a",
         "visible": "legendonly",
         "x": [
          1,
          2,
          3,
          4,
          5
         ],
         "y": [
          3.75,
          0.7142857142857143,
          1.25,
          0,
          2.142857142857143
         ]
        },
        {
         "marker": {
          "size": 20
         },
         "name": "Jenny Avila",
         "type": "scatter",
         "uid": "52454792-4824-45e4-9a8e-a870b55525e6",
         "visible": "legendonly",
         "x": [
          1,
          2,
          3,
          4,
          5
         ],
         "y": [
          2.5,
          2.142857142857143,
          5,
          1.6666666666666667,
          2.857142857142857
         ]
        },
        {
         "marker": {
          "size": 20
         },
         "name": "Jenny Castellanos",
         "type": "scatter",
         "uid": "f9d991d8-1dd3-46d1-9f8f-b4154c975e29",
         "visible": "legendonly",
         "x": [
          1,
          2,
          3,
          4,
          5
         ],
         "y": [
          3.75,
          1.4285714285714286,
          2.5,
          1.6666666666666667,
          3.5714285714285716
         ]
        },
        {
         "marker": {
          "size": 20
         },
         "name": "Omar Chaves",
         "type": "scatter",
         "uid": "caf819ab-af81-490c-a459-439b0f098f61",
         "visible": "legendonly",
         "x": [
          1,
          2,
          3,
          4,
          5
         ],
         "y": [
          3.75,
          4.285714285714286,
          3.75,
          0,
          3.5714285714285716
         ]
        },
        {
         "marker": {
          "size": 20
         },
         "name": "Paula Garcia",
         "type": "scatter",
         "uid": "aa09931a-a439-48a4-b77e-ce91fbf23080",
         "visible": "legendonly",
         "x": [
          1,
          2,
          3,
          4,
          5
         ],
         "y": [
          3.75,
          2.142857142857143,
          5,
          0,
          2.857142857142857
         ]
        },
        {
         "marker": {
          "size": 20
         },
         "name": "Jorge Montana",
         "type": "scatter",
         "uid": "4c52c402-690f-4e5a-9883-847ea18d75fc",
         "visible": "legendonly",
         "x": [
          1,
          2,
          3,
          4,
          5
         ],
         "y": [
          5,
          4.285714285714286,
          3.75,
          5,
          3.5714285714285716
         ]
        },
        {
         "marker": {
          "size": 20
         },
         "name": "Richard Mora",
         "type": "scatter",
         "uid": "a87a524a-1170-45d1-8a48-45af1d1d096c",
         "visible": "legendonly",
         "x": [
          1,
          2,
          3,
          4,
          5
         ],
         "y": [
          3.75,
          4.285714285714286,
          3.75,
          3.3333333333333335,
          3.5714285714285716
         ]
        },
        {
         "marker": {
          "size": 20
         },
         "name": "Salvatore Narvaez",
         "type": "scatter",
         "uid": "bd1c4c21-21f9-411d-8bbf-3c517a9fdb89",
         "visible": "legendonly",
         "x": [
          1,
          2,
          3,
          4,
          5
         ],
         "y": [
          3.75,
          3.5714285714285716,
          3.75,
          3.3333333333333335,
          2.142857142857143
         ]
        },
        {
         "marker": {
          "size": 20
         },
         "name": "Eduardo Orozco",
         "type": "scatter",
         "uid": "23e7d27c-83f1-40bb-b6bc-734e6cf7b9ca",
         "visible": "legendonly",
         "x": [
          1,
          2,
          3,
          4,
          5
         ],
         "y": [
          3.75,
          2.857142857142857,
          3.75,
          1.6666666666666667,
          3.5714285714285716
         ]
        },
        {
         "marker": {
          "size": 20
         },
         "name": "Nicolas Pacheco",
         "type": "scatter",
         "uid": "0643ae43-d648-4a0f-ba57-322813eb480d",
         "visible": "legendonly",
         "x": [
          1,
          2,
          3,
          4,
          5
         ],
         "y": [
          3.75,
          2.857142857142857,
          2.5,
          0,
          1.4285714285714286
         ]
        },
        {
         "marker": {
          "size": 20
         },
         "name": "Milton Ramirez",
         "type": "scatter",
         "uid": "2dbbb406-0ecb-4c5a-8b4b-b002eb8f8622",
         "visible": "legendonly",
         "x": [
          1,
          2,
          3,
          4,
          5
         ],
         "y": [
          5,
          2.857142857142857,
          5,
          1.6666666666666667,
          3.5714285714285716
         ]
        },
        {
         "marker": {
          "size": 20
         },
         "name": "Adriana Real",
         "type": "scatter",
         "uid": "1fab9b0f-e6e5-40d1-b8d2-1f3d9872911b",
         "visible": "legendonly",
         "x": [
          1,
          2,
          3,
          4,
          5
         ],
         "y": [
          2.5,
          2.142857142857143,
          2.5,
          0,
          2.142857142857143
         ]
        },
        {
         "marker": {
          "size": 20
         },
         "name": "Maicol Reyes",
         "type": "scatter",
         "uid": "eb8a2357-74c1-4557-8b2f-a391ae82d5ff",
         "visible": "legendonly",
         "x": [
          1,
          2,
          3,
          4,
          5
         ],
         "y": [
          5,
          1.4285714285714286,
          3.75,
          0,
          2.142857142857143
         ]
        },
        {
         "marker": {
          "size": 20
         },
         "name": "Santiago Riano",
         "type": "scatter",
         "uid": "a8707f86-ad35-44ca-a735-15d17f2070e6",
         "visible": "legendonly",
         "x": [
          1,
          2,
          3,
          4,
          5
         ],
         "y": [
          1.25,
          2.142857142857143,
          2.5,
          0,
          0.7142857142857143
         ]
        },
        {
         "marker": {
          "size": 20
         },
         "name": "Jefferson Rodriguez",
         "type": "scatter",
         "uid": "21367441-6f1d-4bfc-88cb-e6e36247d9c3",
         "visible": "legendonly",
         "x": [
          1,
          2,
          3,
          4,
          5
         ],
         "y": [
          3.75,
          4.285714285714286,
          5,
          5,
          3.5714285714285716
         ]
        },
        {
         "marker": {
          "size": 20
         },
         "name": "Julian Sanches",
         "type": "scatter",
         "uid": "9f1c125f-142a-4855-98c3-95b81faf8cd9",
         "visible": "legendonly",
         "x": [
          1,
          2,
          3,
          4,
          5
         ],
         "y": [
          1.25,
          0,
          1.25,
          0,
          2.142857142857143
         ]
        },
        {
         "marker": {
          "size": 20
         },
         "name": "Denzy Sanchez",
         "type": "scatter",
         "uid": "f1443894-edd9-45cd-bfbe-e10abddef9d5",
         "visible": "legendonly",
         "x": [
          1,
          2,
          3,
          4,
          5
         ],
         "y": [
          5,
          2.142857142857143,
          2.5,
          3.3333333333333335,
          3.5714285714285716
         ]
        },
        {
         "marker": {
          "size": 20
         },
         "name": "Juan Uribe",
         "type": "scatter",
         "uid": "dc379914-b2b1-41e5-aeaf-6c69bc36e925",
         "visible": "legendonly",
         "x": [
          1,
          2,
          3,
          4,
          5
         ],
         "y": [
          3.75,
          2.142857142857143,
          2.5,
          3.3333333333333335,
          2.142857142857143
         ]
        },
        {
         "marker": {
          "size": 30
         },
         "name": "Promedio Curso",
         "opacity": 0.7,
         "type": "scatter",
         "uid": "68d11240-e8eb-4cb6-9898-3695f1c0cc3e",
         "x": [
          1,
          2,
          3,
          4,
          5
         ],
         "y": [
          3.611111111111111,
          2.53968253968254,
          3.3333333333333335,
          1.6666666666666667,
          2.738095238095238
         ]
        }
       ],
       "layout": {
        "title": {
         "text": "Resultados Prueba Diagnóstica",
         "x": 0,
         "xref": "paper"
        },
        "xaxis": {
         "tickmode": "array",
         "ticktext": [
          "Operaciones aritmeticas",
          "Potenciacion y Racionalizacion",
          "Racionales y Porcentajes",
          "Funciones",
          "Expresiones Algebraicas"
         ],
         "tickvals": [
          1,
          2,
          3,
          4,
          5
         ],
         "title": {
          "font": {
           "color": "#7f7f7f",
           "family": "Courier New, monospace",
           "size": 18
          },
          "text": "Procesos evaluados"
         }
        },
        "yaxis": {
         "title": {
          "font": {
           "color": "#7f7f7f",
           "family": "Courier New, monospace",
           "size": 18
          },
          "text": "Calificación"
         }
        }
       }
      },
      "text/html": [
       "<div>\n",
       "        \n",
       "        \n",
       "            <div id=\"cf5b1492-8d89-492f-97f4-a4ca5f59cf90\" class=\"plotly-graph-div\" style=\"height:525px; width:100%;\"></div>\n",
       "            <script type=\"text/javascript\">\n",
       "                require([\"plotly\"], function(Plotly) {\n",
       "                    window.PLOTLYENV=window.PLOTLYENV || {};\n",
       "                    window.PLOTLYENV.BASE_URL='https://plot.ly';\n",
       "                    \n",
       "                if (document.getElementById(\"cf5b1492-8d89-492f-97f4-a4ca5f59cf90\")) {\n",
       "                    Plotly.newPlot(\n",
       "                        'cf5b1492-8d89-492f-97f4-a4ca5f59cf90',\n",
       "                        [{\"marker\": {\"size\": 20}, \"name\": \"Sofia Ardila\", \"type\": \"scatter\", \"uid\": \"72bc463e-6b04-4935-a7f3-ee4579a47a6a\", \"visible\": \"legendonly\", \"x\": [1, 2, 3, 4, 5], \"y\": [3.75, 0.7142857142857143, 1.25, 0.0, 2.142857142857143]}, {\"marker\": {\"size\": 20}, \"name\": \"Jenny Avila\", \"type\": \"scatter\", \"uid\": \"52454792-4824-45e4-9a8e-a870b55525e6\", \"visible\": \"legendonly\", \"x\": [1, 2, 3, 4, 5], \"y\": [2.5, 2.142857142857143, 5.0, 1.6666666666666667, 2.857142857142857]}, {\"marker\": {\"size\": 20}, \"name\": \"Jenny Castellanos\", \"type\": \"scatter\", \"uid\": \"f9d991d8-1dd3-46d1-9f8f-b4154c975e29\", \"visible\": \"legendonly\", \"x\": [1, 2, 3, 4, 5], \"y\": [3.75, 1.4285714285714286, 2.5, 1.6666666666666667, 3.5714285714285716]}, {\"marker\": {\"size\": 20}, \"name\": \"Omar Chaves\", \"type\": \"scatter\", \"uid\": \"caf819ab-af81-490c-a459-439b0f098f61\", \"visible\": \"legendonly\", \"x\": [1, 2, 3, 4, 5], \"y\": [3.75, 4.285714285714286, 3.75, 0.0, 3.5714285714285716]}, {\"marker\": {\"size\": 20}, \"name\": \"Paula Garcia\", \"type\": \"scatter\", \"uid\": \"aa09931a-a439-48a4-b77e-ce91fbf23080\", \"visible\": \"legendonly\", \"x\": [1, 2, 3, 4, 5], \"y\": [3.75, 2.142857142857143, 5.0, 0.0, 2.857142857142857]}, {\"marker\": {\"size\": 20}, \"name\": \"Jorge Montana\", \"type\": \"scatter\", \"uid\": \"4c52c402-690f-4e5a-9883-847ea18d75fc\", \"visible\": \"legendonly\", \"x\": [1, 2, 3, 4, 5], \"y\": [5.0, 4.285714285714286, 3.75, 5.0, 3.5714285714285716]}, {\"marker\": {\"size\": 20}, \"name\": \"Richard Mora\", \"type\": \"scatter\", \"uid\": \"a87a524a-1170-45d1-8a48-45af1d1d096c\", \"visible\": \"legendonly\", \"x\": [1, 2, 3, 4, 5], \"y\": [3.75, 4.285714285714286, 3.75, 3.3333333333333335, 3.5714285714285716]}, {\"marker\": {\"size\": 20}, \"name\": \"Salvatore Narvaez\", \"type\": \"scatter\", \"uid\": \"bd1c4c21-21f9-411d-8bbf-3c517a9fdb89\", \"visible\": \"legendonly\", \"x\": [1, 2, 3, 4, 5], \"y\": [3.75, 3.5714285714285716, 3.75, 3.3333333333333335, 2.142857142857143]}, {\"marker\": {\"size\": 20}, \"name\": \"Eduardo Orozco\", \"type\": \"scatter\", \"uid\": \"23e7d27c-83f1-40bb-b6bc-734e6cf7b9ca\", \"visible\": \"legendonly\", \"x\": [1, 2, 3, 4, 5], \"y\": [3.75, 2.857142857142857, 3.75, 1.6666666666666667, 3.5714285714285716]}, {\"marker\": {\"size\": 20}, \"name\": \"Nicolas Pacheco\", \"type\": \"scatter\", \"uid\": \"0643ae43-d648-4a0f-ba57-322813eb480d\", \"visible\": \"legendonly\", \"x\": [1, 2, 3, 4, 5], \"y\": [3.75, 2.857142857142857, 2.5, 0.0, 1.4285714285714286]}, {\"marker\": {\"size\": 20}, \"name\": \"Milton Ramirez\", \"type\": \"scatter\", \"uid\": \"2dbbb406-0ecb-4c5a-8b4b-b002eb8f8622\", \"visible\": \"legendonly\", \"x\": [1, 2, 3, 4, 5], \"y\": [5.0, 2.857142857142857, 5.0, 1.6666666666666667, 3.5714285714285716]}, {\"marker\": {\"size\": 20}, \"name\": \"Adriana Real\", \"type\": \"scatter\", \"uid\": \"1fab9b0f-e6e5-40d1-b8d2-1f3d9872911b\", \"visible\": \"legendonly\", \"x\": [1, 2, 3, 4, 5], \"y\": [2.5, 2.142857142857143, 2.5, 0.0, 2.142857142857143]}, {\"marker\": {\"size\": 20}, \"name\": \"Maicol Reyes\", \"type\": \"scatter\", \"uid\": \"eb8a2357-74c1-4557-8b2f-a391ae82d5ff\", \"visible\": \"legendonly\", \"x\": [1, 2, 3, 4, 5], \"y\": [5.0, 1.4285714285714286, 3.75, 0.0, 2.142857142857143]}, {\"marker\": {\"size\": 20}, \"name\": \"Santiago Riano\", \"type\": \"scatter\", \"uid\": \"a8707f86-ad35-44ca-a735-15d17f2070e6\", \"visible\": \"legendonly\", \"x\": [1, 2, 3, 4, 5], \"y\": [1.25, 2.142857142857143, 2.5, 0.0, 0.7142857142857143]}, {\"marker\": {\"size\": 20}, \"name\": \"Jefferson Rodriguez\", \"type\": \"scatter\", \"uid\": \"21367441-6f1d-4bfc-88cb-e6e36247d9c3\", \"visible\": \"legendonly\", \"x\": [1, 2, 3, 4, 5], \"y\": [3.75, 4.285714285714286, 5.0, 5.0, 3.5714285714285716]}, {\"marker\": {\"size\": 20}, \"name\": \"Julian Sanches\", \"type\": \"scatter\", \"uid\": \"9f1c125f-142a-4855-98c3-95b81faf8cd9\", \"visible\": \"legendonly\", \"x\": [1, 2, 3, 4, 5], \"y\": [1.25, 0.0, 1.25, 0.0, 2.142857142857143]}, {\"marker\": {\"size\": 20}, \"name\": \"Denzy Sanchez\", \"type\": \"scatter\", \"uid\": \"f1443894-edd9-45cd-bfbe-e10abddef9d5\", \"visible\": \"legendonly\", \"x\": [1, 2, 3, 4, 5], \"y\": [5.0, 2.142857142857143, 2.5, 3.3333333333333335, 3.5714285714285716]}, {\"marker\": {\"size\": 20}, \"name\": \"Juan Uribe\", \"type\": \"scatter\", \"uid\": \"dc379914-b2b1-41e5-aeaf-6c69bc36e925\", \"visible\": \"legendonly\", \"x\": [1, 2, 3, 4, 5], \"y\": [3.75, 2.142857142857143, 2.5, 3.3333333333333335, 2.142857142857143]}, {\"marker\": {\"size\": 30}, \"name\": \"Promedio Curso\", \"opacity\": 0.7, \"type\": \"scatter\", \"uid\": \"68d11240-e8eb-4cb6-9898-3695f1c0cc3e\", \"x\": [1, 2, 3, 4, 5], \"y\": [3.611111111111111, 2.53968253968254, 3.3333333333333335, 1.6666666666666667, 2.738095238095238]}],\n",
       "                        {\"title\": {\"text\": \"Resultados Prueba Diagn\\u00f3stica\", \"x\": 0, \"xref\": \"paper\"}, \"xaxis\": {\"tickmode\": \"array\", \"ticktext\": [\"Operaciones aritmeticas\", \"Potenciacion y Racionalizacion\", \"Racionales y Porcentajes\", \"Funciones\", \"Expresiones Algebraicas\"], \"tickvals\": [1, 2, 3, 4, 5], \"title\": {\"font\": {\"color\": \"#7f7f7f\", \"family\": \"Courier New, monospace\", \"size\": 18}, \"text\": \"Procesos evaluados\"}}, \"yaxis\": {\"title\": {\"font\": {\"color\": \"#7f7f7f\", \"family\": \"Courier New, monospace\", \"size\": 18}, \"text\": \"Calificaci\\u00f3n\"}}},\n",
       "                        {\"showLink\": false, \"linkText\": \"Export to plot.ly\", \"plotlyServerURL\": \"https://plot.ly\", \"responsive\": true}\n",
       "                    ).then(function(){\n",
       "                            \n",
       "var gd = document.getElementById('cf5b1492-8d89-492f-97f4-a4ca5f59cf90');\n",
       "var x = new MutationObserver(function (mutations, observer) {{\n",
       "        var display = window.getComputedStyle(gd).display;\n",
       "        if (!display || display === 'none') {{\n",
       "            console.log([gd, 'removed!']);\n",
       "            Plotly.purge(gd);\n",
       "            observer.disconnect();\n",
       "        }}\n",
       "}});\n",
       "\n",
       "// Listen for the removal of the full notebook cells\n",
       "var notebookContainer = gd.closest('#notebook-container');\n",
       "if (notebookContainer) {{\n",
       "    x.observe(notebookContainer, {childList: true});\n",
       "}}\n",
       "\n",
       "// Listen for the clearing of the current output cell\n",
       "var outputEl = gd.closest('.output');\n",
       "if (outputEl) {{\n",
       "    x.observe(outputEl, {childList: true});\n",
       "}}\n",
       "\n",
       "                        })\n",
       "                };\n",
       "                });\n",
       "            </script>\n",
       "        </div>"
      ]
     },
     "metadata": {},
     "output_type": "display_data"
    }
   ],
   "source": [
    "import plotly\n",
    "import plotly.plotly as py\n",
    "import plotly.graph_objs as go\n",
    "import pandas as pd\n",
    "import numpy as np\n",
    "plotly.offline.init_notebook_mode(connected=True)\n",
    "respuestas = pd.read_csv('resultados_1101.csv', delimiter=',', header=0, encoding='utf-8')\n",
    "datos = np.array(respuestas)\n",
    "g1 = 5/4\n",
    "g2 = 5/7\n",
    "g3 = 5/4\n",
    "g4 = 5/3\n",
    "g5 = 5/7\n",
    "nombres = datos[:,0]\n",
    "proceso1 = []\n",
    "proceso2 = []\n",
    "proceso3 = []\n",
    "proceso4 = []\n",
    "proceso5 = []\n",
    "for i in range(len(datos)):\n",
    "    a = (datos[i][2]+ datos[i][3]+ datos[i][5]+ datos[i][25])*g1\n",
    "    proceso1.append(a)\n",
    "    b  = (datos[i][7]+datos[i][8]+datos[i][9]+datos[i][10]+datos[i][11]+datos[i][12]+datos[i][13])*g2\n",
    "    proceso2.append(b)\n",
    "    c = (datos[i][1]+datos[i][4]+datos[i][6]+datos[i][15])*g3\n",
    "    proceso3.append(c)\n",
    "    d = (datos[i][20]+datos[i][21]+datos[i][24])*g4\n",
    "    proceso4.append(d)\n",
    "    e = (datos[1][14]+datos[i][16]+datos[i][17]+datos[i][18]+datos[i][19]+datos[i][22]+datos[i][23])*g5\n",
    "    proceso5.append(e)\n",
    "\n",
    "curso = np.array([np.average(proceso1), np.average(proceso2), np.average(proceso3), \n",
    "                  np.average(proceso4), np.average(proceso5)])\n",
    "datosx = [1,2,3,4,5]\n",
    "datosy = np.array([[3,4,6,7,2],[2,6,8,9,7],[3,4,6,7,8]])\n",
    "trace =[]\n",
    "for i in range (len(datos)):\n",
    "    #tracei= (datosx, datosy[x])\n",
    "    trace1 = go.Scatter(x=datosx, y=[proceso1[i], proceso2[i], proceso3[i], proceso4[i], proceso5[i]], \n",
    "                        name=nombres[i], #mode='markers', \n",
    "                    marker=dict(size=20), visible=\"legendonly\")\n",
    "    trace.append(trace1)\n",
    "\n",
    "tracegroup = go.Scatter(x=datosx, y=curso, opacity=0.7, name='Promedio Curso', marker=dict(size=30) )\n",
    "trace.append(tracegroup)\n",
    "layout = go.Layout(\n",
    "        title=go.layout.Title(\n",
    "        text='Resultados Prueba Diagnóstica',\n",
    "        xref='paper',\n",
    "        x=0\n",
    "    ),\n",
    "    xaxis=go.layout.XAxis(\n",
    "        tickmode = 'array',\n",
    "        tickvals = [1, 2, 3, 4, 5],\n",
    "        ticktext = ['Operaciones aritmeticas', 'Potenciacion y Racionalizacion', 'Racionales y Porcentajes', \n",
    "                    'Funciones', 'Expresiones Algebraicas'],\n",
    "        title=go.layout.xaxis.Title(\n",
    "            text='Procesos evaluados',\n",
    "            font=dict(\n",
    "                family='Courier New, monospace',\n",
    "                size=18,\n",
    "                color='#7f7f7f'\n",
    "                \n",
    "            )\n",
    "        )\n",
    "    ),\n",
    "    yaxis=go.layout.YAxis(\n",
    "        title=go.layout.yaxis.Title(\n",
    "            text='Calificación',\n",
    "            font=dict(\n",
    "                family='Courier New, monospace',\n",
    "                size=18,\n",
    "                color='#7f7f7f'\n",
    "            )\n",
    "        )\n",
    "    )\n",
    ")\n",
    "fig = go.Figure(data=trace, layout=layout)\n",
    "plotly.offline.iplot(fig)"
   ]
  },
  {
   "cell_type": "markdown",
   "metadata": {},
   "source": [
    "## Tabla de respuestas de los estudiantes"
   ]
  },
  {
   "cell_type": "code",
   "execution_count": 3,
   "metadata": {
    "scrolled": false
   },
   "outputs": [
    {
     "data": {
      "text/html": [
       "<div>\n",
       "<style scoped>\n",
       "    .dataframe tbody tr th:only-of-type {\n",
       "        vertical-align: middle;\n",
       "    }\n",
       "\n",
       "    .dataframe tbody tr th {\n",
       "        vertical-align: top;\n",
       "    }\n",
       "\n",
       "    .dataframe thead th {\n",
       "        text-align: right;\n",
       "    }\n",
       "</style>\n",
       "<table border=\"1\" class=\"dataframe\">\n",
       "  <thead>\n",
       "    <tr style=\"text-align: right;\">\n",
       "      <th></th>\n",
       "      <th>Nombre</th>\n",
       "      <th>1</th>\n",
       "      <th>2</th>\n",
       "      <th>3</th>\n",
       "      <th>4</th>\n",
       "      <th>5</th>\n",
       "      <th>6</th>\n",
       "      <th>7</th>\n",
       "      <th>8</th>\n",
       "      <th>9</th>\n",
       "      <th>...</th>\n",
       "      <th>16</th>\n",
       "      <th>17</th>\n",
       "      <th>18</th>\n",
       "      <th>19</th>\n",
       "      <th>20</th>\n",
       "      <th>21</th>\n",
       "      <th>22</th>\n",
       "      <th>23</th>\n",
       "      <th>24</th>\n",
       "      <th>25</th>\n",
       "    </tr>\n",
       "  </thead>\n",
       "  <tbody>\n",
       "    <tr>\n",
       "      <th>0</th>\n",
       "      <td>Sofia Ardila</td>\n",
       "      <td>0</td>\n",
       "      <td>1</td>\n",
       "      <td>1</td>\n",
       "      <td>0</td>\n",
       "      <td>0</td>\n",
       "      <td>1</td>\n",
       "      <td>1</td>\n",
       "      <td>0</td>\n",
       "      <td>0</td>\n",
       "      <td>...</td>\n",
       "      <td>1</td>\n",
       "      <td>0</td>\n",
       "      <td>1</td>\n",
       "      <td>0</td>\n",
       "      <td>0</td>\n",
       "      <td>0</td>\n",
       "      <td>0</td>\n",
       "      <td>0</td>\n",
       "      <td>0</td>\n",
       "      <td>1</td>\n",
       "    </tr>\n",
       "    <tr>\n",
       "      <th>1</th>\n",
       "      <td>Jenny Avila</td>\n",
       "      <td>1</td>\n",
       "      <td>1</td>\n",
       "      <td>0</td>\n",
       "      <td>1</td>\n",
       "      <td>0</td>\n",
       "      <td>1</td>\n",
       "      <td>0</td>\n",
       "      <td>1</td>\n",
       "      <td>0</td>\n",
       "      <td>...</td>\n",
       "      <td>1</td>\n",
       "      <td>0</td>\n",
       "      <td>1</td>\n",
       "      <td>0</td>\n",
       "      <td>0</td>\n",
       "      <td>0</td>\n",
       "      <td>1</td>\n",
       "      <td>0</td>\n",
       "      <td>1</td>\n",
       "      <td>1</td>\n",
       "    </tr>\n",
       "    <tr>\n",
       "      <th>2</th>\n",
       "      <td>Jenny Castellanos</td>\n",
       "      <td>0</td>\n",
       "      <td>1</td>\n",
       "      <td>1</td>\n",
       "      <td>1</td>\n",
       "      <td>1</td>\n",
       "      <td>1</td>\n",
       "      <td>1</td>\n",
       "      <td>0</td>\n",
       "      <td>0</td>\n",
       "      <td>...</td>\n",
       "      <td>1</td>\n",
       "      <td>0</td>\n",
       "      <td>1</td>\n",
       "      <td>1</td>\n",
       "      <td>0</td>\n",
       "      <td>1</td>\n",
       "      <td>1</td>\n",
       "      <td>0</td>\n",
       "      <td>0</td>\n",
       "      <td>0</td>\n",
       "    </tr>\n",
       "    <tr>\n",
       "      <th>3</th>\n",
       "      <td>Omar Chaves</td>\n",
       "      <td>1</td>\n",
       "      <td>1</td>\n",
       "      <td>0</td>\n",
       "      <td>0</td>\n",
       "      <td>1</td>\n",
       "      <td>1</td>\n",
       "      <td>1</td>\n",
       "      <td>1</td>\n",
       "      <td>0</td>\n",
       "      <td>...</td>\n",
       "      <td>1</td>\n",
       "      <td>1</td>\n",
       "      <td>1</td>\n",
       "      <td>1</td>\n",
       "      <td>0</td>\n",
       "      <td>0</td>\n",
       "      <td>0</td>\n",
       "      <td>0</td>\n",
       "      <td>0</td>\n",
       "      <td>1</td>\n",
       "    </tr>\n",
       "    <tr>\n",
       "      <th>4</th>\n",
       "      <td>Paula Garcia</td>\n",
       "      <td>1</td>\n",
       "      <td>1</td>\n",
       "      <td>0</td>\n",
       "      <td>1</td>\n",
       "      <td>1</td>\n",
       "      <td>1</td>\n",
       "      <td>1</td>\n",
       "      <td>0</td>\n",
       "      <td>0</td>\n",
       "      <td>...</td>\n",
       "      <td>1</td>\n",
       "      <td>0</td>\n",
       "      <td>1</td>\n",
       "      <td>1</td>\n",
       "      <td>0</td>\n",
       "      <td>0</td>\n",
       "      <td>0</td>\n",
       "      <td>0</td>\n",
       "      <td>0</td>\n",
       "      <td>1</td>\n",
       "    </tr>\n",
       "    <tr>\n",
       "      <th>5</th>\n",
       "      <td>Jorge Montana</td>\n",
       "      <td>1</td>\n",
       "      <td>1</td>\n",
       "      <td>1</td>\n",
       "      <td>1</td>\n",
       "      <td>1</td>\n",
       "      <td>1</td>\n",
       "      <td>1</td>\n",
       "      <td>1</td>\n",
       "      <td>1</td>\n",
       "      <td>...</td>\n",
       "      <td>1</td>\n",
       "      <td>0</td>\n",
       "      <td>1</td>\n",
       "      <td>1</td>\n",
       "      <td>1</td>\n",
       "      <td>1</td>\n",
       "      <td>1</td>\n",
       "      <td>0</td>\n",
       "      <td>1</td>\n",
       "      <td>1</td>\n",
       "    </tr>\n",
       "    <tr>\n",
       "      <th>6</th>\n",
       "      <td>Richard Mora</td>\n",
       "      <td>1</td>\n",
       "      <td>1</td>\n",
       "      <td>0</td>\n",
       "      <td>1</td>\n",
       "      <td>1</td>\n",
       "      <td>1</td>\n",
       "      <td>1</td>\n",
       "      <td>0</td>\n",
       "      <td>1</td>\n",
       "      <td>...</td>\n",
       "      <td>1</td>\n",
       "      <td>0</td>\n",
       "      <td>1</td>\n",
       "      <td>0</td>\n",
       "      <td>1</td>\n",
       "      <td>1</td>\n",
       "      <td>1</td>\n",
       "      <td>1</td>\n",
       "      <td>0</td>\n",
       "      <td>1</td>\n",
       "    </tr>\n",
       "    <tr>\n",
       "      <th>7</th>\n",
       "      <td>Salvatore Narvaez</td>\n",
       "      <td>1</td>\n",
       "      <td>1</td>\n",
       "      <td>0</td>\n",
       "      <td>0</td>\n",
       "      <td>1</td>\n",
       "      <td>1</td>\n",
       "      <td>1</td>\n",
       "      <td>0</td>\n",
       "      <td>1</td>\n",
       "      <td>...</td>\n",
       "      <td>1</td>\n",
       "      <td>0</td>\n",
       "      <td>1</td>\n",
       "      <td>0</td>\n",
       "      <td>1</td>\n",
       "      <td>0</td>\n",
       "      <td>0</td>\n",
       "      <td>0</td>\n",
       "      <td>1</td>\n",
       "      <td>1</td>\n",
       "    </tr>\n",
       "    <tr>\n",
       "      <th>8</th>\n",
       "      <td>Eduardo Orozco</td>\n",
       "      <td>1</td>\n",
       "      <td>1</td>\n",
       "      <td>1</td>\n",
       "      <td>0</td>\n",
       "      <td>0</td>\n",
       "      <td>1</td>\n",
       "      <td>1</td>\n",
       "      <td>0</td>\n",
       "      <td>1</td>\n",
       "      <td>...</td>\n",
       "      <td>1</td>\n",
       "      <td>0</td>\n",
       "      <td>1</td>\n",
       "      <td>1</td>\n",
       "      <td>0</td>\n",
       "      <td>0</td>\n",
       "      <td>1</td>\n",
       "      <td>0</td>\n",
       "      <td>1</td>\n",
       "      <td>1</td>\n",
       "    </tr>\n",
       "    <tr>\n",
       "      <th>9</th>\n",
       "      <td>Nicolas Pacheco</td>\n",
       "      <td>0</td>\n",
       "      <td>1</td>\n",
       "      <td>1</td>\n",
       "      <td>1</td>\n",
       "      <td>0</td>\n",
       "      <td>1</td>\n",
       "      <td>1</td>\n",
       "      <td>1</td>\n",
       "      <td>0</td>\n",
       "      <td>...</td>\n",
       "      <td>0</td>\n",
       "      <td>0</td>\n",
       "      <td>0</td>\n",
       "      <td>0</td>\n",
       "      <td>0</td>\n",
       "      <td>0</td>\n",
       "      <td>1</td>\n",
       "      <td>0</td>\n",
       "      <td>0</td>\n",
       "      <td>1</td>\n",
       "    </tr>\n",
       "    <tr>\n",
       "      <th>10</th>\n",
       "      <td>Milton Ramirez</td>\n",
       "      <td>1</td>\n",
       "      <td>1</td>\n",
       "      <td>1</td>\n",
       "      <td>1</td>\n",
       "      <td>1</td>\n",
       "      <td>1</td>\n",
       "      <td>1</td>\n",
       "      <td>1</td>\n",
       "      <td>1</td>\n",
       "      <td>...</td>\n",
       "      <td>1</td>\n",
       "      <td>1</td>\n",
       "      <td>0</td>\n",
       "      <td>1</td>\n",
       "      <td>0</td>\n",
       "      <td>1</td>\n",
       "      <td>1</td>\n",
       "      <td>0</td>\n",
       "      <td>0</td>\n",
       "      <td>1</td>\n",
       "    </tr>\n",
       "    <tr>\n",
       "      <th>11</th>\n",
       "      <td>Adriana Real</td>\n",
       "      <td>0</td>\n",
       "      <td>1</td>\n",
       "      <td>1</td>\n",
       "      <td>1</td>\n",
       "      <td>0</td>\n",
       "      <td>1</td>\n",
       "      <td>1</td>\n",
       "      <td>1</td>\n",
       "      <td>0</td>\n",
       "      <td>...</td>\n",
       "      <td>1</td>\n",
       "      <td>0</td>\n",
       "      <td>1</td>\n",
       "      <td>0</td>\n",
       "      <td>0</td>\n",
       "      <td>0</td>\n",
       "      <td>0</td>\n",
       "      <td>0</td>\n",
       "      <td>0</td>\n",
       "      <td>0</td>\n",
       "    </tr>\n",
       "    <tr>\n",
       "      <th>12</th>\n",
       "      <td>Maicol Reyes</td>\n",
       "      <td>0</td>\n",
       "      <td>1</td>\n",
       "      <td>1</td>\n",
       "      <td>1</td>\n",
       "      <td>1</td>\n",
       "      <td>1</td>\n",
       "      <td>0</td>\n",
       "      <td>0</td>\n",
       "      <td>0</td>\n",
       "      <td>...</td>\n",
       "      <td>0</td>\n",
       "      <td>0</td>\n",
       "      <td>0</td>\n",
       "      <td>1</td>\n",
       "      <td>0</td>\n",
       "      <td>0</td>\n",
       "      <td>1</td>\n",
       "      <td>0</td>\n",
       "      <td>0</td>\n",
       "      <td>1</td>\n",
       "    </tr>\n",
       "    <tr>\n",
       "      <th>13</th>\n",
       "      <td>Santiago Riano</td>\n",
       "      <td>1</td>\n",
       "      <td>1</td>\n",
       "      <td>0</td>\n",
       "      <td>0</td>\n",
       "      <td>0</td>\n",
       "      <td>1</td>\n",
       "      <td>0</td>\n",
       "      <td>0</td>\n",
       "      <td>0</td>\n",
       "      <td>...</td>\n",
       "      <td>0</td>\n",
       "      <td>0</td>\n",
       "      <td>0</td>\n",
       "      <td>0</td>\n",
       "      <td>0</td>\n",
       "      <td>0</td>\n",
       "      <td>0</td>\n",
       "      <td>0</td>\n",
       "      <td>0</td>\n",
       "      <td>0</td>\n",
       "    </tr>\n",
       "    <tr>\n",
       "      <th>14</th>\n",
       "      <td>Jefferson Rodriguez</td>\n",
       "      <td>1</td>\n",
       "      <td>0</td>\n",
       "      <td>1</td>\n",
       "      <td>1</td>\n",
       "      <td>1</td>\n",
       "      <td>1</td>\n",
       "      <td>1</td>\n",
       "      <td>1</td>\n",
       "      <td>0</td>\n",
       "      <td>...</td>\n",
       "      <td>1</td>\n",
       "      <td>0</td>\n",
       "      <td>0</td>\n",
       "      <td>1</td>\n",
       "      <td>1</td>\n",
       "      <td>1</td>\n",
       "      <td>1</td>\n",
       "      <td>1</td>\n",
       "      <td>1</td>\n",
       "      <td>1</td>\n",
       "    </tr>\n",
       "    <tr>\n",
       "      <th>15</th>\n",
       "      <td>Julian Sanches</td>\n",
       "      <td>0</td>\n",
       "      <td>0</td>\n",
       "      <td>0</td>\n",
       "      <td>0</td>\n",
       "      <td>0</td>\n",
       "      <td>1</td>\n",
       "      <td>0</td>\n",
       "      <td>0</td>\n",
       "      <td>0</td>\n",
       "      <td>...</td>\n",
       "      <td>1</td>\n",
       "      <td>0</td>\n",
       "      <td>0</td>\n",
       "      <td>0</td>\n",
       "      <td>0</td>\n",
       "      <td>0</td>\n",
       "      <td>1</td>\n",
       "      <td>0</td>\n",
       "      <td>0</td>\n",
       "      <td>1</td>\n",
       "    </tr>\n",
       "    <tr>\n",
       "      <th>16</th>\n",
       "      <td>Denzy Sanchez</td>\n",
       "      <td>1</td>\n",
       "      <td>1</td>\n",
       "      <td>1</td>\n",
       "      <td>0</td>\n",
       "      <td>1</td>\n",
       "      <td>1</td>\n",
       "      <td>1</td>\n",
       "      <td>0</td>\n",
       "      <td>0</td>\n",
       "      <td>...</td>\n",
       "      <td>1</td>\n",
       "      <td>0</td>\n",
       "      <td>1</td>\n",
       "      <td>1</td>\n",
       "      <td>0</td>\n",
       "      <td>1</td>\n",
       "      <td>0</td>\n",
       "      <td>1</td>\n",
       "      <td>1</td>\n",
       "      <td>1</td>\n",
       "    </tr>\n",
       "    <tr>\n",
       "      <th>17</th>\n",
       "      <td>Juan Uribe</td>\n",
       "      <td>1</td>\n",
       "      <td>1</td>\n",
       "      <td>1</td>\n",
       "      <td>0</td>\n",
       "      <td>0</td>\n",
       "      <td>1</td>\n",
       "      <td>1</td>\n",
       "      <td>0</td>\n",
       "      <td>0</td>\n",
       "      <td>...</td>\n",
       "      <td>0</td>\n",
       "      <td>0</td>\n",
       "      <td>1</td>\n",
       "      <td>0</td>\n",
       "      <td>1</td>\n",
       "      <td>0</td>\n",
       "      <td>0</td>\n",
       "      <td>1</td>\n",
       "      <td>1</td>\n",
       "      <td>1</td>\n",
       "    </tr>\n",
       "  </tbody>\n",
       "</table>\n",
       "<p>18 rows × 26 columns</p>\n",
       "</div>"
      ],
      "text/plain": [
       "                 Nombre  1  2  3  4  5  6  7  8  9  ...  16  17  18  19  20  \\\n",
       "0          Sofia Ardila  0  1  1  0  0  1  1  0  0  ...   1   0   1   0   0   \n",
       "1           Jenny Avila  1  1  0  1  0  1  0  1  0  ...   1   0   1   0   0   \n",
       "2     Jenny Castellanos  0  1  1  1  1  1  1  0  0  ...   1   0   1   1   0   \n",
       "3           Omar Chaves  1  1  0  0  1  1  1  1  0  ...   1   1   1   1   0   \n",
       "4          Paula Garcia  1  1  0  1  1  1  1  0  0  ...   1   0   1   1   0   \n",
       "5         Jorge Montana  1  1  1  1  1  1  1  1  1  ...   1   0   1   1   1   \n",
       "6          Richard Mora  1  1  0  1  1  1  1  0  1  ...   1   0   1   0   1   \n",
       "7     Salvatore Narvaez  1  1  0  0  1  1  1  0  1  ...   1   0   1   0   1   \n",
       "8        Eduardo Orozco  1  1  1  0  0  1  1  0  1  ...   1   0   1   1   0   \n",
       "9       Nicolas Pacheco  0  1  1  1  0  1  1  1  0  ...   0   0   0   0   0   \n",
       "10       Milton Ramirez  1  1  1  1  1  1  1  1  1  ...   1   1   0   1   0   \n",
       "11         Adriana Real  0  1  1  1  0  1  1  1  0  ...   1   0   1   0   0   \n",
       "12         Maicol Reyes  0  1  1  1  1  1  0  0  0  ...   0   0   0   1   0   \n",
       "13       Santiago Riano  1  1  0  0  0  1  0  0  0  ...   0   0   0   0   0   \n",
       "14  Jefferson Rodriguez  1  0  1  1  1  1  1  1  0  ...   1   0   0   1   1   \n",
       "15       Julian Sanches  0  0  0  0  0  1  0  0  0  ...   1   0   0   0   0   \n",
       "16        Denzy Sanchez  1  1  1  0  1  1  1  0  0  ...   1   0   1   1   0   \n",
       "17           Juan Uribe  1  1  1  0  0  1  1  0  0  ...   0   0   1   0   1   \n",
       "\n",
       "    21  22  23  24  25  \n",
       "0    0   0   0   0   1  \n",
       "1    0   1   0   1   1  \n",
       "2    1   1   0   0   0  \n",
       "3    0   0   0   0   1  \n",
       "4    0   0   0   0   1  \n",
       "5    1   1   0   1   1  \n",
       "6    1   1   1   0   1  \n",
       "7    0   0   0   1   1  \n",
       "8    0   1   0   1   1  \n",
       "9    0   1   0   0   1  \n",
       "10   1   1   0   0   1  \n",
       "11   0   0   0   0   0  \n",
       "12   0   1   0   0   1  \n",
       "13   0   0   0   0   0  \n",
       "14   1   1   1   1   1  \n",
       "15   0   1   0   0   1  \n",
       "16   1   0   1   1   1  \n",
       "17   0   0   1   1   1  \n",
       "\n",
       "[18 rows x 26 columns]"
      ]
     },
     "execution_count": 3,
     "metadata": {},
     "output_type": "execute_result"
    }
   ],
   "source": [
    "respuestas"
   ]
  },
  {
   "cell_type": "code",
   "execution_count": null,
   "metadata": {},
   "outputs": [],
   "source": []
  }
 ],
 "metadata": {
  "hide_input": false,
  "kernelspec": {
   "display_name": "Python 3",
   "language": "python",
   "name": "python3"
  },
  "language_info": {
   "codemirror_mode": {
    "name": "ipython",
    "version": 3
   },
   "file_extension": ".py",
   "mimetype": "text/x-python",
   "name": "python",
   "nbconvert_exporter": "python",
   "pygments_lexer": "ipython3",
   "version": "3.7.3"
  }
 },
 "nbformat": 4,
 "nbformat_minor": 2
}

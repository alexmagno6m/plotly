{
 "cells": [
  {
   "cell_type": "markdown",
   "metadata": {},
   "source": [
    "# Resultados Prueba Diagnóstica de Matemáticas - PreIcfes 2019"
   ]
  },
  {
   "cell_type": "markdown",
   "metadata": {},
   "source": [
    "A continuación se muestran los resultados obtenidos en la evaluación diagnóstica de matemáticas, la cual fue dividida en cinco grupos, cada uno tiene una califación máxima de 5.0, se condisera aprobado una nota igual o superior 3.0, los procesos evaluados y la cantidad de preguntas fueron:"
   ]
  },
  {
   "cell_type": "markdown",
   "metadata": {},
   "source": [
    "| Operaciones Aritméticas | Potenciación y Racionalización | Números racionales y Porcentajes | Funciones | Expresiones Algebraícas y Matemáticas | \n",
    "| --- | --- | --- | --- | --- |\n",
    "| 4 Preguntas | 7 Preguntas | 4 Preguntas | 3 Preguntas | 7 Preguntas |"
   ]
  },
  {
   "attachments": {
    "imagen1.PNG": {
     "image/png": "[encoded data removed]"
    }
   },
   "cell_type": "markdown",
   "metadata": {},
   "source": [
    "Los resultados fueron calculados usando __Python__, cuyo algoritmo se muestra mas abajo, en la parte final encuentra la gráfica con sus resultados, (el primer trazado que se muestra es el promedio del curso) debe seleccionar en la leyenda su nombre,como se describe en la siguiente imagen:\n",
    "![imagen1.PNG](attachment:imagen1.PNG)"
   ]
  },
  {
   "attachments": {
    "imagen2.PNG": {
     "image/png": "[encoded data removed]"
    }
   },
   "cell_type": "markdown",
   "metadata": {},
   "source": [
    "Luego de eso se resaltan sus resultados junto con el promedio obtenido con el curso, de esta forma los puede comparar y también el de otros estudiantes, después de activar sus resultados los puede guardar haciendo clic en el icono correspondiente de la barra de tareas:\n",
    "![imagen2.PNG](attachment:imagen2.PNG)"
   ]
  },
  {
   "cell_type": "markdown",
   "metadata": {},
   "source": [
    "## Algoritmo en Python##"
   ]
  },
  {
   "cell_type": "code",
   "execution_count": 2,
   "metadata": {},
   "outputs": [
    {
     "data": {
      "text/html": [
       "        <script type=\"text/javascript\">\n",
       "        window.PlotlyConfig = {MathJaxConfig: 'local'};\n",
       "        if (window.MathJax) {MathJax.Hub.Config({SVG: {font: \"STIX-Web\"}});}\n",
       "        if (typeof require !== 'undefined') {\n",
       "        require.undef(\"plotly\");\n",
       "        requirejs.config({\n",
       "            paths: {\n",
       "                'plotly': ['https://cdn.plot.ly/plotly-latest.min']\n",
       "            }\n",
       "        });\n",
       "        require(['plotly'], function(Plotly) {\n",
       "            window._Plotly = Plotly;\n",
       "        });\n",
       "        }\n",
       "        </script>\n",
       "        "
      ]
     },
     "metadata": {},
     "output_type": "display_data"
    },
    {
     "data": {
      "application/vnd.plotly.v1+json": {
       "config": {
        "linkText": "Export to plot.ly",
        "plotlyServerURL": "https://plot.ly",
        "showLink": false
       },
       "data": [
        {
         "marker": {
          "size": 20
         },
         "name": "Sofia Ardila",
         "type": "scatter",
         "uid": "1e404a1d-8fbe-47fb-b536-4ad2db7960d9",
         "visible": "legendonly",
         "x": [
          1,
          2,
          3,
          4,
          5
         ],
         "y": [
          3.75,
          0.7142857142857143,
          1.25,
          0,
          2.142857142857143
         ]
        },
        {
         "marker": {
          "size": 20
         },
         "name": "Jenny Avila",
         "type": "scatter",
         "uid": "3dc5a1c4-0284-4496-a5ea-cd1bd6f10756",
         "visible": "legendonly",
         "x": [
          1,
          2,
          3,
          4,
          5
         ],
         "y": [
          2.5,
          2.142857142857143,
          5,
          1.6666666666666667,
          2.857142857142857
         ]
        },
        {
         "marker": {
          "size": 20
         },
         "name": "Jenny Castellanos",
         "type": "scatter",
         "uid": "29c08236-8217-4cf9-9af2-6142005ebb0d",
         "visible": "legendonly",
         "x": [
          1,
          2,
          3,
          4,
          5
         ],
         "y": [
          3.75,
          1.4285714285714286,
          2.5,
          1.6666666666666667,
          3.5714285714285716
         ]
        },
        {
         "marker": {
          "size": 20
         },
         "name": "Omar Chaves",
         "type": "scatter",
         "uid": "5d2378da-a6c7-45e3-83f0-1d9ccaae8997",
         "visible": "legendonly",
         "x": [
          1,
          2,
          3,
          4,
          5
         ],
         "y": [
          3.75,
          4.285714285714286,
          3.75,
          0,
          3.5714285714285716
         ]
        },
        {
         "marker": {
          "size": 20
         },
         "name": "Paula Garcia",
         "type": "scatter",
         "uid": "913902e9-7a29-4d3c-9b41-db7e3d99881a",
         "visible": "legendonly",
         "x": [
          1,
          2,
          3,
          4,
          5
         ],
         "y": [
          3.75,
          2.142857142857143,
          5,
          0,
          2.857142857142857
         ]
        },
        {
         "marker": {
          "size": 20
         },
         "name": "Jorge Montana",
         "type": "scatter",
         "uid": "c177f1ed-df3e-4bb1-b886-74b1fad7b031",
         "visible": "legendonly",
         "x": [
          1,
          2,
          3,
          4,
          5
         ],
         "y": [
          5,
          4.285714285714286,
          3.75,
          5,
          3.5714285714285716
         ]
        },
        {
         "marker": {
          "size": 20
         },
         "name": "Richard Mora",
         "type": "scatter",
         "uid": "c74fb8d8-54f7-40eb-ba6d-ac27debf854e",
         "visible": "legendonly",
         "x": [
          1,
          2,
          3,
          4,
          5
         ],
         "y": [
          3.75,
          4.285714285714286,
          3.75,
          3.3333333333333335,
          3.5714285714285716
         ]
        },
        {
         "marker": {
          "size": 20
         },
         "name": "Salvatore Narvaez",
         "type": "scatter",
         "uid": "fbcb8e0c-cce8-4d84-9c36-14d211271f2a",
         "visible": "legendonly",
         "x": [
          1,
          2,
          3,
          4,
          5
         ],
         "y": [
          3.75,
          3.5714285714285716,
          3.75,
          3.3333333333333335,
          2.142857142857143
         ]
        },
        {
         "marker": {
          "size": 20
         },
         "name": "Eduardo Orozco",
         "type": "scatter",
         "uid": "fdb0f4ba-7e19-47fd-8eb8-ed066f0a3ec4",
         "visible": "legendonly",
         "x": [
          1,
          2,
          3,
          4,
          5
         ],
         "y": [
          3.75,
          2.857142857142857,
          3.75,
          1.6666666666666667,
          3.5714285714285716
         ]
        },
        {
         "marker": {
          "size": 20
         },
         "name": "Nicolas Pacheco",
         "type": "scatter",
         "uid": "14faf62f-488e-46c5-8fa3-2b6ebe6724d3",
         "visible": "legendonly",
         "x": [
          1,
          2,
          3,
          4,
          5
         ],
         "y": [
          3.75,
          2.857142857142857,
          2.5,
          0,
          1.4285714285714286
         ]
        },
        {
         "marker": {
          "size": 20
         },
         "name": "Milton Ramirez",
         "type": "scatter",
         "uid": "a6321848-ef7f-4e78-bc00-06af5550db0d",
         "visible": "legendonly",
         "x": [
          1,
          2,
          3,
          4,
          5
         ],
         "y": [
          5,
          2.857142857142857,
          5,
          1.6666666666666667,
          3.5714285714285716
         ]
        },
        {
         "marker": {
          "size": 20
         },
         "name": "Adriana Real",
         "type": "scatter",
         "uid": "b7df1e1a-535e-496b-a73b-726d3b4ce3fc",
         "visible": "legendonly",
         "x": [
          1,
          2,
          3,
          4,
          5
         ],
         "y": [
          2.5,
          2.142857142857143,
          2.5,
          0,
          2.142857142857143
         ]
        },
        {
         "marker": {
          "size": 20
         },
         "name": "Maicol Reyes",
         "type": "scatter",
         "uid": "d3c332a5-df36-4c44-a920-52a295b61b4c",
         "visible": "legendonly",
         "x": [
          1,
          2,
          3,
          4,
          5
         ],
         "y": [
          5,
          1.4285714285714286,
          3.75,
          0,
          2.142857142857143
         ]
        },
        {
         "marker": {
          "size": 20
         },
         "name": "Santiago Riano",
         "type": "scatter",
         "uid": "f6572698-2b1b-403d-8111-5f7e170378d0",
         "visible": "legendonly",
         "x": [
          1,
          2,
          3,
          4,
          5
         ],
         "y": [
          1.25,
          2.142857142857143,
          2.5,
          0,
          0.7142857142857143
         ]
        },
        {
         "marker": {
          "size": 20
         },
         "name": "Jefferson Rodriguez",
         "type": "scatter",
         "uid": "a9791e32-3e91-4674-bd7f-53aeef6e73ae",
         "visible": "legendonly",
         "x": [
          1,
          2,
          3,
          4,
          5
         ],
         "y": [
          3.75,
          4.285714285714286,
          5,
          5,
          3.5714285714285716
         ]
        },
        {
         "marker": {
          "size": 20
         },
         "name": "Julian Sanches",
         "type": "scatter",
         "uid": "defca5a0-9e79-477a-a3cc-4e5f36781893",
         "visible": "legendonly",
         "x": [
          1,
          2,
          3,
          4,
          5
         ],
         "y": [
          1.25,
          0,
          1.25,
          0,
          2.142857142857143
         ]
        },
        {
         "marker": {
          "size": 20
         },
         "name": "Denzy Sanchez",
         "type": "scatter",
         "uid": "e61ac9f8-bb85-4157-9709-5fa79b5deb47",
         "visible": "legendonly",
         "x": [
          1,
          2,
          3,
          4,
          5
         ],
         "y": [
          5,
          2.142857142857143,
          2.5,
          3.3333333333333335,
          3.5714285714285716
         ]
        },
        {
         "marker": {
          "size": 20
         },
         "name": "Juan Uribe",
         "type": "scatter",
         "uid": "9c550daf-3cf0-4ab4-a723-a26182e31527",
         "visible": "legendonly",
         "x": [
          1,
          2,
          3,
          4,
          5
         ],
         "y": [
          3.75,
          2.142857142857143,
          2.5,
          3.3333333333333335,
          2.142857142857143
         ]
        },
        {
         "marker": {
          "size": 30
         },
         "name": "Promedio Curso",
         "opacity": 0.7,
         "type": "scatter",
         "uid": "f74f9b38-45f5-4ade-98fa-ae33b01fab9a",
         "x": [
          1,
          2,
          3,
          4,
          5
         ],
         "y": [
          3.611111111111111,
          2.53968253968254,
          3.3333333333333335,
          1.6666666666666667,
          2.738095238095238
         ]
        }
       ],
       "layout": {
        "title": {
         "text": "Resultados Prueba Diagnóstica",
         "x": 0,
         "xref": "paper"
        },
        "xaxis": {
         "tickmode": "array",
         "ticktext": [
          "Operaciones aritmeticas",
          "Potenciacion y Racionalizacion",
          "Racionales y Porcentajes",
          "Funciones",
          "Expresiones Algebraicas"
         ],
         "tickvals": [
          1,
          2,
          3,
          4,
          5
         ],
         "title": {
          "font": {
           "color": "#7f7f7f",
           "family": "Courier New, monospace",
           "size": 18
          },
          "text": "Procesos evaluados"
         }
        },
        "yaxis": {
         "title": {
          "font": {
           "color": "#7f7f7f",
           "family": "Courier New, monospace",
           "size": 18
          },
          "text": "Calificación"
         }
        }
       }
      },
      "text/html": [
       "<div>\n",
       "        \n",
       "        \n",
       "            <div id=\"cf8a3a69-1384-4b31-9b93-2ab1995a82c2\" class=\"plotly-graph-div\" style=\"height:525px; width:100%;\"></div>\n",
       "            <script type=\"text/javascript\">\n",
       "                require([\"plotly\"], function(Plotly) {\n",
       "                    window.PLOTLYENV=window.PLOTLYENV || {};\n",
       "                    window.PLOTLYENV.BASE_URL='https://plot.ly';\n",
       "                    \n",
       "                if (document.getElementById(\"cf8a3a69-1384-4b31-9b93-2ab1995a82c2\")) {\n",
       "                    Plotly.newPlot(\n",
       "                        'cf8a3a69-1384-4b31-9b93-2ab1995a82c2',\n",
       "                        [{\"marker\": {\"size\": 20}, \"name\": \"Sofia Ardila\", \"type\": \"scatter\", \"uid\": \"1e404a1d-8fbe-47fb-b536-4ad2db7960d9\", \"visible\": \"legendonly\", \"x\": [1, 2, 3, 4, 5], \"y\": [3.75, 0.7142857142857143, 1.25, 0.0, 2.142857142857143]}, {\"marker\": {\"size\": 20}, \"name\": \"Jenny Avila\", \"type\": \"scatter\", \"uid\": \"3dc5a1c4-0284-4496-a5ea-cd1bd6f10756\", \"visible\": \"legendonly\", \"x\": [1, 2, 3, 4, 5], \"y\": [2.5, 2.142857142857143, 5.0, 1.6666666666666667, 2.857142857142857]}, {\"marker\": {\"size\": 20}, \"name\": \"Jenny Castellanos\", \"type\": \"scatter\", \"uid\": \"29c08236-8217-4cf9-9af2-6142005ebb0d\", \"visible\": \"legendonly\", \"x\": [1, 2, 3, 4, 5], \"y\": [3.75, 1.4285714285714286, 2.5, 1.6666666666666667, 3.5714285714285716]}, {\"marker\": {\"size\": 20}, \"name\": \"Omar Chaves\", \"type\": \"scatter\", \"uid\": \"5d2378da-a6c7-45e3-83f0-1d9ccaae8997\", \"visible\": \"legendonly\", \"x\": [1, 2, 3, 4, 5], \"y\": [3.75, 4.285714285714286, 3.75, 0.0, 3.5714285714285716]}, {\"marker\": {\"size\": 20}, \"name\": \"Paula Garcia\", \"type\": \"scatter\", \"uid\": \"913902e9-7a29-4d3c-9b41-db7e3d99881a\", \"visible\": \"legendonly\", \"x\": [1, 2, 3, 4, 5], \"y\": [3.75, 2.142857142857143, 5.0, 0.0, 2.857142857142857]}, {\"marker\": {\"size\": 20}, \"name\": \"Jorge Montana\", \"type\": \"scatter\", \"uid\": \"c177f1ed-df3e-4bb1-b886-74b1fad7b031\", \"visible\": \"legendonly\", \"x\": [1, 2, 3, 4, 5], \"y\": [5.0, 4.285714285714286, 3.75, 5.0, 3.5714285714285716]}, {\"marker\": {\"size\": 20}, \"name\": \"Richard Mora\", \"type\": \"scatter\", \"uid\": \"c74fb8d8-54f7-40eb-ba6d-ac27debf854e\", \"visible\": \"legendonly\", \"x\": [1, 2, 3, 4, 5], \"y\": [3.75, 4.285714285714286, 3.75, 3.3333333333333335, 3.5714285714285716]}, {\"marker\": {\"size\": 20}, \"name\": \"Salvatore Narvaez\", \"type\": \"scatter\", \"uid\": \"fbcb8e0c-cce8-4d84-9c36-14d211271f2a\", \"visible\": \"legendonly\", \"x\": [1, 2, 3, 4, 5], \"y\": [3.75, 3.5714285714285716, 3.75, 3.3333333333333335, 2.142857142857143]}, {\"marker\": {\"size\": 20}, \"name\": \"Eduardo Orozco\", \"type\": \"scatter\", \"uid\": \"fdb0f4ba-7e19-47fd-8eb8-ed066f0a3ec4\", \"visible\": \"legendonly\", \"x\": [1, 2, 3, 4, 5], \"y\": [3.75, 2.857142857142857, 3.75, 1.6666666666666667, 3.5714285714285716]}, {\"marker\": {\"size\": 20}, \"name\": \"Nicolas Pacheco\", \"type\": \"scatter\", \"uid\": \"14faf62f-488e-46c5-8fa3-2b6ebe6724d3\", \"visible\": \"legendonly\", \"x\": [1, 2, 3, 4, 5], \"y\": [3.75, 2.857142857142857, 2.5, 0.0, 1.4285714285714286]}, {\"marker\": {\"size\": 20}, \"name\": \"Milton Ramirez\", \"type\": \"scatter\", \"uid\": \"a6321848-ef7f-4e78-bc00-06af5550db0d\", \"visible\": \"legendonly\", \"x\": [1, 2, 3, 4, 5], \"y\": [5.0, 2.857142857142857, 5.0, 1.6666666666666667, 3.5714285714285716]}, {\"marker\": {\"size\": 20}, \"name\": \"Adriana Real\", \"type\": \"scatter\", \"uid\": \"b7df1e1a-535e-496b-a73b-726d3b4ce3fc\", \"visible\": \"legendonly\", \"x\": [1, 2, 3, 4, 5], \"y\": [2.5, 2.142857142857143, 2.5, 0.0, 2.142857142857143]}, {\"marker\": {\"size\": 20}, \"name\": \"Maicol Reyes\", \"type\": \"scatter\", \"uid\": \"d3c332a5-df36-4c44-a920-52a295b61b4c\", \"visible\": \"legendonly\", \"x\": [1, 2, 3, 4, 5], \"y\": [5.0, 1.4285714285714286, 3.75, 0.0, 2.142857142857143]}, {\"marker\": {\"size\": 20}, \"name\": \"Santiago Riano\", \"type\": \"scatter\", \"uid\": \"f6572698-2b1b-403d-8111-5f7e170378d0\", \"visible\": \"legendonly\", \"x\": [1, 2, 3, 4, 5], \"y\": [1.25, 2.142857142857143, 2.5, 0.0, 0.7142857142857143]}, {\"marker\": {\"size\": 20}, \"name\": \"Jefferson Rodriguez\", \"type\": \"scatter\", \"uid\": \"a9791e32-3e91-4674-bd7f-53aeef6e73ae\", \"visible\": \"legendonly\", \"x\": [1, 2, 3, 4, 5], \"y\": [3.75, 4.285714285714286, 5.0, 5.0, 3.5714285714285716]}, {\"marker\": {\"size\": 20}, \"name\": \"Julian Sanches\", \"type\": \"scatter\", \"uid\": \"defca5a0-9e79-477a-a3cc-4e5f36781893\", \"visible\": \"legendonly\", \"x\": [1, 2, 3, 4, 5], \"y\": [1.25, 0.0, 1.25, 0.0, 2.142857142857143]}, {\"marker\": {\"size\": 20}, \"name\": \"Denzy Sanchez\", \"type\": \"scatter\", \"uid\": \"e61ac9f8-bb85-4157-9709-5fa79b5deb47\", \"visible\": \"legendonly\", \"x\": [1, 2, 3, 4, 5], \"y\": [5.0, 2.142857142857143, 2.5, 3.3333333333333335, 3.5714285714285716]}, {\"marker\": {\"size\": 20}, \"name\": \"Juan Uribe\", \"type\": \"scatter\", \"uid\": \"9c550daf-3cf0-4ab4-a723-a26182e31527\", \"visible\": \"legendonly\", \"x\": [1, 2, 3, 4, 5], \"y\": [3.75, 2.142857142857143, 2.5, 3.3333333333333335, 2.142857142857143]}, {\"marker\": {\"size\": 30}, \"name\": \"Promedio Curso\", \"opacity\": 0.7, \"type\": \"scatter\", \"uid\": \"f74f9b38-45f5-4ade-98fa-ae33b01fab9a\", \"x\": [1, 2, 3, 4, 5], \"y\": [3.611111111111111, 2.53968253968254, 3.3333333333333335, 1.6666666666666667, 2.738095238095238]}],\n",
       "                        {\"title\": {\"text\": \"Resultados Prueba Diagn\\u00f3stica\", \"x\": 0, \"xref\": \"paper\"}, \"xaxis\": {\"tickmode\": \"array\", \"ticktext\": [\"Operaciones aritmeticas\", \"Potenciacion y Racionalizacion\", \"Racionales y Porcentajes\", \"Funciones\", \"Expresiones Algebraicas\"], \"tickvals\": [1, 2, 3, 4, 5], \"title\": {\"font\": {\"color\": \"#7f7f7f\", \"family\": \"Courier New, monospace\", \"size\": 18}, \"text\": \"Procesos evaluados\"}}, \"yaxis\": {\"title\": {\"font\": {\"color\": \"#7f7f7f\", \"family\": \"Courier New, monospace\", \"size\": 18}, \"text\": \"Calificaci\\u00f3n\"}}},\n",
       "                        {\"showLink\": false, \"linkText\": \"Export to plot.ly\", \"plotlyServerURL\": \"https://plot.ly\", \"responsive\": true}\n",
       "                    ).then(function(){\n",
       "                            \n",
       "var gd = document.getElementById('cf8a3a69-1384-4b31-9b93-2ab1995a82c2');\n",
       "var x = new MutationObserver(function (mutations, observer) {{\n",
       "        var display = window.getComputedStyle(gd).display;\n",
       "        if (!display || display === 'none') {{\n",
       "            console.log([gd, 'removed!']);\n",
       "            Plotly.purge(gd);\n",
       "            observer.disconnect();\n",
       "        }}\n",
       "}});\n",
       "\n",
       "// Listen for the removal of the full notebook cells\n",
       "var notebookContainer = gd.closest('#notebook-container');\n",
       "if (notebookContainer) {{\n",
       "    x.observe(notebookContainer, {childList: true});\n",
       "}}\n",
       "\n",
       "// Listen for the clearing of the current output cell\n",
       "var outputEl = gd.closest('.output');\n",
       "if (outputEl) {{\n",
       "    x.observe(outputEl, {childList: true});\n",
       "}}\n",
       "\n",
       "                        })\n",
       "                };\n",
       "                });\n",
       "            </script>\n",
       "        </div>"
      ]
     },
     "metadata": {},
     "output_type": "display_data"
    }
   ],
   "source": [
    "import plotly\n",
    "import plotly.plotly as py\n",
    "import plotly.graph_objs as go\n",
    "import pandas as pd\n",
    "import numpy as np\n",
    "plotly.offline.init_notebook_mode(connected=True)\n",
    "respuestas = pd.read_csv('resultados_1101.csv', delimiter=',', header=0, encoding='utf-8')\n",
    "datos = np.array(respuestas)\n",
    "g1 = 5/4\n",
    "g2 = 5/7\n",
    "g3 = 5/4\n",
    "g4 = 5/3\n",
    "g5 = 5/7\n",
    "nombres = datos[:,0]\n",
    "proceso1 = []\n",
    "proceso2 = []\n",
    "proceso3 = []\n",
    "proceso4 = []\n",
    "proceso5 = []\n",
    "for i in range(len(datos)):\n",
    "    a = (datos[i][2]+ datos[i][3]+ datos[i][5]+ datos[i][25])*g1\n",
    "    proceso1.append(a)\n",
    "    b  = (datos[i][7]+datos[i][8]+datos[i][9]+datos[i][10]+datos[i][11]+datos[i][12]+datos[i][13])*g2\n",
    "    proceso2.append(b)\n",
    "    c = (datos[i][1]+datos[i][4]+datos[i][6]+datos[i][15])*g3\n",
    "    proceso3.append(c)\n",
    "    d = (datos[i][20]+datos[i][21]+datos[i][24])*g4\n",
    "    proceso4.append(d)\n",
    "    e = (datos[1][14]+datos[i][16]+datos[i][17]+datos[i][18]+datos[i][19]+datos[i][22]+datos[i][23])*g5\n",
    "    proceso5.append(e)\n",
    "\n",
    "curso = np.array([np.average(proceso1), np.average(proceso2), np.average(proceso3), \n",
    "                  np.average(proceso4), np.average(proceso5)])\n",
    "datosx = [1,2,3,4,5]\n",
    "datosy = np.array([[3,4,6,7,2],[2,6,8,9,7],[3,4,6,7,8]])\n",
    "trace =[]\n",
    "for i in range (len(datos)):\n",
    "    #tracei= (datosx, datosy[x])\n",
    "    trace1 = go.Scatter(x=datosx, y=[proceso1[i], proceso2[i], proceso3[i], proceso4[i], proceso5[i]], \n",
    "                        name=nombres[i], #mode='markers', \n",
    "                    marker=dict(size=20), visible=\"legendonly\")\n",
    "    trace.append(trace1)\n",
    "\n",
    "tracegroup = go.Scatter(x=datosx, y=curso, opacity=0.7, name='Promedio Curso', marker=dict(size=30) )\n",
    "trace.append(tracegroup)\n",
    "layout = go.Layout(\n",
    "        title=go.layout.Title(\n",
    "        text='Resultados Prueba Diagnóstica',\n",
    "        xref='paper',\n",
    "        x=0\n",
    "    ),\n",
    "    xaxis=go.layout.XAxis(\n",
    "        tickmode = 'array',\n",
    "        tickvals = [1, 2, 3, 4, 5],\n",
    "        ticktext = ['Operaciones aritmeticas', 'Potenciacion y Racionalizacion', 'Racionales y Porcentajes', \n",
    "                    'Funciones', 'Expresiones Algebraicas'],\n",
    "        title=go.layout.xaxis.Title(\n",
    "            text='Procesos evaluados',\n",
    "            font=dict(\n",
    "                family='Courier New, monospace',\n",
    "                size=18,\n",
    "                color='#7f7f7f'\n",
    "                \n",
    "            )\n",
    "        )\n",
    "    ),\n",
    "    yaxis=go.layout.YAxis(\n",
    "        title=go.layout.yaxis.Title(\n",
    "            text='Calificación',\n",
    "            font=dict(\n",
    "                family='Courier New, monospace',\n",
    "                size=18,\n",
    "                color='#7f7f7f'\n",
    "            )\n",
    "        )\n",
    "    )\n",
    ")\n",
    "fig = go.Figure(data=trace, layout=layout)\n",
    "plotly.offline.iplot(fig)"
   ]
  },
  {
   "cell_type": "code",
   "execution_count": null,
   "metadata": {},
   "outputs": [],
   "source": []
  }
 ],
 "metadata": {
  "hide_input": false,
  "kernelspec": {
   "display_name": "Python 3",
   "language": "python",
   "name": "python3"
  },
  "language_info": {
   "codemirror_mode": {
    "name": "ipython",
    "version": 3
   },
   "file_extension": ".py",
   "mimetype": "text/x-python",
   "name": "python",
   "nbconvert_exporter": "python",
   "pygments_lexer": "ipython3",
   "version": "3.7.3"
  }
 },
 "nbformat": 4,
 "nbformat_minor": 2
}

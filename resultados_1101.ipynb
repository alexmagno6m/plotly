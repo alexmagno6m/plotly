{
 "cells": [
  {
   "cell_type": "code",
   "execution_count": 8,
   "metadata": {},
   "outputs": [
    {
     "data": {
      "text/html": [
       "        <script type=\"text/javascript\">\n",
       "        window.PlotlyConfig = {MathJaxConfig: 'local'};\n",
       "        if (window.MathJax) {MathJax.Hub.Config({SVG: {font: \"STIX-Web\"}});}\n",
       "        if (typeof require !== 'undefined') {\n",
       "        require.undef(\"plotly\");\n",
       "        requirejs.config({\n",
       "            paths: {\n",
       "                'plotly': ['https://cdn.plot.ly/plotly-latest.min']\n",
       "            }\n",
       "        });\n",
       "        require(['plotly'], function(Plotly) {\n",
       "            window._Plotly = Plotly;\n",
       "        });\n",
       "        }\n",
       "        </script>\n",
       "        "
      ]
     },
     "metadata": {},
     "output_type": "display_data"
    },
    {
     "data": {
      "application/vnd.plotly.v1+json": {
       "config": {
        "linkText": "Export to plot.ly",
        "plotlyServerURL": "https://plot.ly",
        "showLink": false
       },
       "data": [
        {
         "marker": {
          "size": 20
         },
         "name": "Jenny Avila",
         "type": "scatter",
         "uid": "3d38c8ca-d4a5-47d0-a528-ccc1d6a0c415",
         "visible": "legendonly",
         "x": [
          1,
          2,
          3,
          4,
          5
         ],
         "y": [
          2.5,
          2.142857142857143,
          5,
          1.6666666666666667,
          4
         ]
        },
        {
         "marker": {
          "size": 20
         },
         "name": "Jenny Castellanos",
         "type": "scatter",
         "uid": "7142bfb1-2f44-46a5-9fd2-a00f3b9ce464",
         "visible": "legendonly",
         "x": [
          1,
          2,
          3,
          4,
          5
         ],
         "y": [
          3.75,
          1.4285714285714286,
          2.5,
          1.6666666666666667,
          5
         ]
        },
        {
         "marker": {
          "size": 20
         },
         "name": "Omar Chaves",
         "type": "scatter",
         "uid": "62a1dc51-f6fd-4e12-97d5-26fd1c5f6853",
         "visible": "legendonly",
         "x": [
          1,
          2,
          3,
          4,
          5
         ],
         "y": [
          3.75,
          4.285714285714286,
          3.75,
          0,
          5
         ]
        },
        {
         "marker": {
          "size": 20
         },
         "name": "Paula Garcia",
         "type": "scatter",
         "uid": "598592ca-5eb8-48e9-9271-65f3cb565da7",
         "visible": "legendonly",
         "x": [
          1,
          2,
          3,
          4,
          5
         ],
         "y": [
          3.75,
          2.142857142857143,
          5,
          0,
          4
         ]
        },
        {
         "marker": {
          "size": 20
         },
         "name": "Jorge Montana",
         "type": "scatter",
         "uid": "a0fcf5e8-2134-407a-95fd-94f81beb2d38",
         "visible": "legendonly",
         "x": [
          1,
          2,
          3,
          4,
          5
         ],
         "y": [
          5,
          4.285714285714286,
          3.75,
          5,
          5
         ]
        },
        {
         "marker": {
          "size": 20
         },
         "name": "Richard Mora",
         "type": "scatter",
         "uid": "0a3e6bbd-f3ac-452d-87f8-9ad8c8a4a597",
         "visible": "legendonly",
         "x": [
          1,
          2,
          3,
          4,
          5
         ],
         "y": [
          3.75,
          4.285714285714286,
          3.75,
          3.3333333333333335,
          5
         ]
        },
        {
         "marker": {
          "size": 20
         },
         "name": "Salvatore Narvaez",
         "type": "scatter",
         "uid": "cfe944c0-61d4-41cf-a54b-699cb7f3a0d2",
         "visible": "legendonly",
         "x": [
          1,
          2,
          3,
          4,
          5
         ],
         "y": [
          3.75,
          3.5714285714285716,
          3.75,
          3.3333333333333335,
          3
         ]
        },
        {
         "marker": {
          "size": 20
         },
         "name": "Eduardo Orozco",
         "type": "scatter",
         "uid": "7f255132-f15a-4969-949c-f74f9100057b",
         "visible": "legendonly",
         "x": [
          1,
          2,
          3,
          4,
          5
         ],
         "y": [
          3.75,
          2.857142857142857,
          3.75,
          1.6666666666666667,
          5
         ]
        },
        {
         "marker": {
          "size": 20
         },
         "name": "Nicolas Pacheco",
         "type": "scatter",
         "uid": "d6966967-c344-4f40-8416-89b71c03e449",
         "visible": "legendonly",
         "x": [
          1,
          2,
          3,
          4,
          5
         ],
         "y": [
          3.75,
          2.857142857142857,
          2.5,
          0,
          2
         ]
        },
        {
         "marker": {
          "size": 20
         },
         "name": "Milton Ramirez",
         "type": "scatter",
         "uid": "f95e6d25-0981-4c57-9b6d-b6de97c89668",
         "visible": "legendonly",
         "x": [
          1,
          2,
          3,
          4,
          5
         ],
         "y": [
          5,
          2.857142857142857,
          5,
          1.6666666666666667,
          5
         ]
        },
        {
         "marker": {
          "size": 20
         },
         "name": "Adriana Real",
         "type": "scatter",
         "uid": "56a3a8e6-7862-4372-a76d-c989392d1df6",
         "visible": "legendonly",
         "x": [
          1,
          2,
          3,
          4,
          5
         ],
         "y": [
          2.5,
          2.142857142857143,
          2.5,
          0,
          3
         ]
        },
        {
         "marker": {
          "size": 20
         },
         "name": "Linda Reyes",
         "type": "scatter",
         "uid": "2e5e8c48-51d7-4fef-a987-33e462f80226",
         "visible": "legendonly",
         "x": [
          1,
          2,
          3,
          4,
          5
         ],
         "y": [
          5,
          5,
          5,
          5,
          7
         ]
        },
        {
         "marker": {
          "size": 20
         },
         "name": "Maicol Reyes",
         "type": "scatter",
         "uid": "0be0dfc0-c66b-449b-90c2-0e8209f24fb2",
         "visible": "legendonly",
         "x": [
          1,
          2,
          3,
          4,
          5
         ],
         "y": [
          5,
          1.4285714285714286,
          3.75,
          0,
          3
         ]
        },
        {
         "marker": {
          "size": 20
         },
         "name": "Santiago Riano",
         "type": "scatter",
         "uid": "1021fff8-7788-405d-a462-3549a01f4681",
         "visible": "legendonly",
         "x": [
          1,
          2,
          3,
          4,
          5
         ],
         "y": [
          1.25,
          2.142857142857143,
          2.5,
          0,
          1
         ]
        },
        {
         "marker": {
          "size": 20
         },
         "name": "Jefferson Rodriguez",
         "type": "scatter",
         "uid": "5305815c-8c7e-4c50-989a-ebb0afae2025",
         "visible": "legendonly",
         "x": [
          1,
          2,
          3,
          4,
          5
         ],
         "y": [
          3.75,
          4.285714285714286,
          5,
          5,
          5
         ]
        },
        {
         "marker": {
          "size": 20
         },
         "name": "Julian Sanches",
         "type": "scatter",
         "uid": "df5fce2b-aa08-406a-9168-7701d8b5c192",
         "visible": "legendonly",
         "x": [
          1,
          2,
          3,
          4,
          5
         ],
         "y": [
          1.25,
          0,
          1.25,
          0,
          3
         ]
        },
        {
         "marker": {
          "size": 20
         },
         "name": "Denzy Sanchez",
         "type": "scatter",
         "uid": "c2a0325d-d0a0-427a-b3e9-79a039036023",
         "visible": "legendonly",
         "x": [
          1,
          2,
          3,
          4,
          5
         ],
         "y": [
          5,
          2.142857142857143,
          2.5,
          3.3333333333333335,
          5
         ]
        },
        {
         "marker": {
          "size": 20
         },
         "name": "Juan Uribe",
         "type": "scatter",
         "uid": "3888be51-0829-411b-8fd6-2626758a5687",
         "visible": "legendonly",
         "x": [
          1,
          2,
          3,
          4,
          5
         ],
         "y": [
          3.75,
          2.142857142857143,
          2.5,
          3.3333333333333335,
          3
         ]
        },
        {
         "marker": {
          "size": 30
         },
         "name": "Promedio Curso",
         "opacity": 0.7,
         "type": "scatter",
         "uid": "4df8df27-612b-49f3-b3b0-cf928ed415a4",
         "x": [
          1,
          2,
          3,
          4,
          5
         ],
         "y": [
          3.6805555555555554,
          2.7777777777777777,
          3.5416666666666665,
          1.9444444444444444,
          4.055555555555555
         ]
        }
       ],
       "layout": {
        "title": {
         "text": "Ejercicio",
         "x": 0,
         "xref": "paper"
        },
        "xaxis": {
         "tickmode": "array",
         "ticktext": [
          "Operaciones aritmeticas",
          "Potenciacion y Racionalizacion",
          "Racionales y Porcentajes",
          "Funciones",
          "Expresiones Algebraicas"
         ],
         "tickvals": [
          1,
          2,
          3,
          4,
          5
         ],
         "title": {
          "font": {
           "color": "#7f7f7f",
           "family": "Courier New, monospace",
           "size": 18
          },
          "text": "Procesos evaluados"
         }
        },
        "yaxis": {
         "title": {
          "font": {
           "color": "#7f7f7f",
           "family": "Courier New, monospace",
           "size": 18
          },
          "text": "Calificación"
         }
        }
       }
      },
      "text/html": [
       "<div>\n",
       "        \n",
       "        \n",
       "            <div id=\"93312f06-1cf7-4bf0-8352-bdec24abaf06\" class=\"plotly-graph-div\" style=\"height:525px; width:100%;\"></div>\n",
       "            <script type=\"text/javascript\">\n",
       "                require([\"plotly\"], function(Plotly) {\n",
       "                    window.PLOTLYENV=window.PLOTLYENV || {};\n",
       "                    window.PLOTLYENV.BASE_URL='https://plot.ly';\n",
       "                    \n",
       "                if (document.getElementById(\"93312f06-1cf7-4bf0-8352-bdec24abaf06\")) {\n",
       "                    Plotly.newPlot(\n",
       "                        '93312f06-1cf7-4bf0-8352-bdec24abaf06',\n",
       "                        [{\"marker\": {\"size\": 20}, \"name\": \"Jenny Avila\", \"type\": \"scatter\", \"uid\": \"3d38c8ca-d4a5-47d0-a528-ccc1d6a0c415\", \"visible\": \"legendonly\", \"x\": [1, 2, 3, 4, 5], \"y\": [2.5, 2.142857142857143, 5.0, 1.6666666666666667, 4]}, {\"marker\": {\"size\": 20}, \"name\": \"Jenny Castellanos\", \"type\": \"scatter\", \"uid\": \"7142bfb1-2f44-46a5-9fd2-a00f3b9ce464\", \"visible\": \"legendonly\", \"x\": [1, 2, 3, 4, 5], \"y\": [3.75, 1.4285714285714286, 2.5, 1.6666666666666667, 5]}, {\"marker\": {\"size\": 20}, \"name\": \"Omar Chaves\", \"type\": \"scatter\", \"uid\": \"62a1dc51-f6fd-4e12-97d5-26fd1c5f6853\", \"visible\": \"legendonly\", \"x\": [1, 2, 3, 4, 5], \"y\": [3.75, 4.285714285714286, 3.75, 0.0, 5]}, {\"marker\": {\"size\": 20}, \"name\": \"Paula Garcia\", \"type\": \"scatter\", \"uid\": \"598592ca-5eb8-48e9-9271-65f3cb565da7\", \"visible\": \"legendonly\", \"x\": [1, 2, 3, 4, 5], \"y\": [3.75, 2.142857142857143, 5.0, 0.0, 4]}, {\"marker\": {\"size\": 20}, \"name\": \"Jorge Montana\", \"type\": \"scatter\", \"uid\": \"a0fcf5e8-2134-407a-95fd-94f81beb2d38\", \"visible\": \"legendonly\", \"x\": [1, 2, 3, 4, 5], \"y\": [5.0, 4.285714285714286, 3.75, 5.0, 5]}, {\"marker\": {\"size\": 20}, \"name\": \"Richard Mora\", \"type\": \"scatter\", \"uid\": \"0a3e6bbd-f3ac-452d-87f8-9ad8c8a4a597\", \"visible\": \"legendonly\", \"x\": [1, 2, 3, 4, 5], \"y\": [3.75, 4.285714285714286, 3.75, 3.3333333333333335, 5]}, {\"marker\": {\"size\": 20}, \"name\": \"Salvatore Narvaez\", \"type\": \"scatter\", \"uid\": \"cfe944c0-61d4-41cf-a54b-699cb7f3a0d2\", \"visible\": \"legendonly\", \"x\": [1, 2, 3, 4, 5], \"y\": [3.75, 3.5714285714285716, 3.75, 3.3333333333333335, 3]}, {\"marker\": {\"size\": 20}, \"name\": \"Eduardo Orozco\", \"type\": \"scatter\", \"uid\": \"7f255132-f15a-4969-949c-f74f9100057b\", \"visible\": \"legendonly\", \"x\": [1, 2, 3, 4, 5], \"y\": [3.75, 2.857142857142857, 3.75, 1.6666666666666667, 5]}, {\"marker\": {\"size\": 20}, \"name\": \"Nicolas Pacheco\", \"type\": \"scatter\", \"uid\": \"d6966967-c344-4f40-8416-89b71c03e449\", \"visible\": \"legendonly\", \"x\": [1, 2, 3, 4, 5], \"y\": [3.75, 2.857142857142857, 2.5, 0.0, 2]}, {\"marker\": {\"size\": 20}, \"name\": \"Milton Ramirez\", \"type\": \"scatter\", \"uid\": \"f95e6d25-0981-4c57-9b6d-b6de97c89668\", \"visible\": \"legendonly\", \"x\": [1, 2, 3, 4, 5], \"y\": [5.0, 2.857142857142857, 5.0, 1.6666666666666667, 5]}, {\"marker\": {\"size\": 20}, \"name\": \"Adriana Real\", \"type\": \"scatter\", \"uid\": \"56a3a8e6-7862-4372-a76d-c989392d1df6\", \"visible\": \"legendonly\", \"x\": [1, 2, 3, 4, 5], \"y\": [2.5, 2.142857142857143, 2.5, 0.0, 3]}, {\"marker\": {\"size\": 20}, \"name\": \"Linda Reyes\", \"type\": \"scatter\", \"uid\": \"2e5e8c48-51d7-4fef-a987-33e462f80226\", \"visible\": \"legendonly\", \"x\": [1, 2, 3, 4, 5], \"y\": [5.0, 5.0, 5.0, 5.0, 7]}, {\"marker\": {\"size\": 20}, \"name\": \"Maicol Reyes\", \"type\": \"scatter\", \"uid\": \"0be0dfc0-c66b-449b-90c2-0e8209f24fb2\", \"visible\": \"legendonly\", \"x\": [1, 2, 3, 4, 5], \"y\": [5.0, 1.4285714285714286, 3.75, 0.0, 3]}, {\"marker\": {\"size\": 20}, \"name\": \"Santiago Riano\", \"type\": \"scatter\", \"uid\": \"1021fff8-7788-405d-a462-3549a01f4681\", \"visible\": \"legendonly\", \"x\": [1, 2, 3, 4, 5], \"y\": [1.25, 2.142857142857143, 2.5, 0.0, 1]}, {\"marker\": {\"size\": 20}, \"name\": \"Jefferson Rodriguez\", \"type\": \"scatter\", \"uid\": \"5305815c-8c7e-4c50-989a-ebb0afae2025\", \"visible\": \"legendonly\", \"x\": [1, 2, 3, 4, 5], \"y\": [3.75, 4.285714285714286, 5.0, 5.0, 5]}, {\"marker\": {\"size\": 20}, \"name\": \"Julian Sanches\", \"type\": \"scatter\", \"uid\": \"df5fce2b-aa08-406a-9168-7701d8b5c192\", \"visible\": \"legendonly\", \"x\": [1, 2, 3, 4, 5], \"y\": [1.25, 0.0, 1.25, 0.0, 3]}, {\"marker\": {\"size\": 20}, \"name\": \"Denzy Sanchez\", \"type\": \"scatter\", \"uid\": \"c2a0325d-d0a0-427a-b3e9-79a039036023\", \"visible\": \"legendonly\", \"x\": [1, 2, 3, 4, 5], \"y\": [5.0, 2.142857142857143, 2.5, 3.3333333333333335, 5]}, {\"marker\": {\"size\": 20}, \"name\": \"Juan Uribe\", \"type\": \"scatter\", \"uid\": \"3888be51-0829-411b-8fd6-2626758a5687\", \"visible\": \"legendonly\", \"x\": [1, 2, 3, 4, 5], \"y\": [3.75, 2.142857142857143, 2.5, 3.3333333333333335, 3]}, {\"marker\": {\"size\": 30}, \"name\": \"Promedio Curso\", \"opacity\": 0.7, \"type\": \"scatter\", \"uid\": \"4df8df27-612b-49f3-b3b0-cf928ed415a4\", \"x\": [1, 2, 3, 4, 5], \"y\": [3.6805555555555554, 2.7777777777777777, 3.5416666666666665, 1.9444444444444444, 4.055555555555555]}],\n",
       "                        {\"title\": {\"text\": \"Ejercicio\", \"x\": 0, \"xref\": \"paper\"}, \"xaxis\": {\"tickmode\": \"array\", \"ticktext\": [\"Operaciones aritmeticas\", \"Potenciacion y Racionalizacion\", \"Racionales y Porcentajes\", \"Funciones\", \"Expresiones Algebraicas\"], \"tickvals\": [1, 2, 3, 4, 5], \"title\": {\"font\": {\"color\": \"#7f7f7f\", \"family\": \"Courier New, monospace\", \"size\": 18}, \"text\": \"Procesos evaluados\"}}, \"yaxis\": {\"title\": {\"font\": {\"color\": \"#7f7f7f\", \"family\": \"Courier New, monospace\", \"size\": 18}, \"text\": \"Calificaci\\u00f3n\"}}},\n",
       "                        {\"showLink\": false, \"linkText\": \"Export to plot.ly\", \"plotlyServerURL\": \"https://plot.ly\", \"responsive\": true}\n",
       "                    ).then(function(){\n",
       "                            \n",
       "var gd = document.getElementById('93312f06-1cf7-4bf0-8352-bdec24abaf06');\n",
       "var x = new MutationObserver(function (mutations, observer) {{\n",
       "        var display = window.getComputedStyle(gd).display;\n",
       "        if (!display || display === 'none') {{\n",
       "            console.log([gd, 'removed!']);\n",
       "            Plotly.purge(gd);\n",
       "            observer.disconnect();\n",
       "        }}\n",
       "}});\n",
       "\n",
       "// Listen for the removal of the full notebook cells\n",
       "var notebookContainer = gd.closest('#notebook-container');\n",
       "if (notebookContainer) {{\n",
       "    x.observe(notebookContainer, {childList: true});\n",
       "}}\n",
       "\n",
       "// Listen for the clearing of the current output cell\n",
       "var outputEl = gd.closest('.output');\n",
       "if (outputEl) {{\n",
       "    x.observe(outputEl, {childList: true});\n",
       "}}\n",
       "\n",
       "                        })\n",
       "                };\n",
       "                });\n",
       "            </script>\n",
       "        </div>"
      ]
     },
     "metadata": {},
     "output_type": "display_data"
    }
   ],
   "source": [
    "import plotly\n",
    "import plotly.plotly as py\n",
    "import plotly.graph_objs as go\n",
    "import pandas as pd\n",
    "import numpy as np\n",
    "plotly.offline.init_notebook_mode(connected=True)\n",
    "respuestas = pd.read_csv('resultados_1101.csv', delimiter=',', header=0, encoding='utf-8')\n",
    "datos = np.array(respuestas)\n",
    "g1 = 5/4\n",
    "g2 = 5/7\n",
    "g3 = 5/4\n",
    "g4 = 5/3\n",
    "g5 = 5/7\n",
    "nombres = datos[:,0]\n",
    "#print(nombres)\n",
    "proceso1 = []\n",
    "proceso2 = []\n",
    "proceso3 = []\n",
    "proceso4 = []\n",
    "proceso5 = []\n",
    "for i in range(len(datos)):\n",
    "    a = (datos[i][2]+ datos[i][3]+ datos[i][5]+ datos[i][25])*g1\n",
    "    proceso1.append(a)\n",
    "    b  = (datos[i][7]+datos[i][8]+datos[i][9]+datos[i][10]+datos[i][11]+datos[i][12]+datos[i][13])*g2\n",
    "    proceso2.append(b)\n",
    "    c = (datos[i][1]+datos[i][4]+datos[i][6]+datos[i][15])*g3\n",
    "    proceso3.append(c)\n",
    "    d = (datos[i][20]+datos[i][21]+datos[i][24])*g4\n",
    "    proceso4.append(d)\n",
    "    e = (datos[1][14]+datos[i][16]+datos[i][17]+datos[i][18]+datos[i][19]+datos[i][22]+datos[i][23])\n",
    "    proceso5.append(e)\n",
    "\n",
    "curso = np.array([np.average(proceso1), np.average(proceso2), np.average(proceso3), np.average(proceso4), np.average(proceso5)])\n",
    "\n",
    "datosx = [1,2,3,4,5]\n",
    "datosy = np.array([[3,4,6,7,2],[2,6,8,9,7],[3,4,6,7,8]])\n",
    "names = ['juan garcia', 'diana torres', 'luisa mejia']\n",
    "trace =[]\n",
    "for i in range (len(datos)):\n",
    "    #tracei= (datosx, datosy[x])\n",
    "    trace1 = go.Scatter(x=datosx, y=[proceso1[i], proceso2[i], proceso3[i], proceso4[i], proceso5[i]], \n",
    "                        name=nombres[i], #mode='markers', \n",
    "                    marker=dict(size=20), visible=\"legendonly\")\n",
    "    trace.append(trace1)\n",
    "tracegroup = go.Scatter(x=datosx, y=curso, opacity=0.7, name='Promedio Curso', marker=dict(size=30) )\n",
    "trace.append(tracegroup)\n",
    "layout = go.Layout(\n",
    "        title=go.layout.Title(\n",
    "        text='Ejercicio',\n",
    "        xref='paper',\n",
    "        x=0\n",
    "    ),\n",
    "    xaxis=go.layout.XAxis(\n",
    "        tickmode = 'array',\n",
    "        tickvals = [1, 2, 3, 4, 5],\n",
    "        ticktext = ['Operaciones aritmeticas', 'Potenciacion y Racionalizacion', 'Racionales y Porcentajes', \n",
    "                    'Funciones', 'Expresiones Algebraicas'],\n",
    "        title=go.layout.xaxis.Title(\n",
    "            text='Procesos evaluados',\n",
    "            font=dict(\n",
    "                family='Courier New, monospace',\n",
    "                size=18,\n",
    "                color='#7f7f7f'\n",
    "                \n",
    "            )\n",
    "        )\n",
    "    ),\n",
    "    yaxis=go.layout.YAxis(\n",
    "        title=go.layout.yaxis.Title(\n",
    "            text='Calificación',\n",
    "            font=dict(\n",
    "                family='Courier New, monospace',\n",
    "                size=18,\n",
    "                color='#7f7f7f'\n",
    "            )\n",
    "        )\n",
    "    )\n",
    ")\n",
    "fig = go.Figure(data=trace, layout=layout)\n",
    "plotly.offline.iplot(fig)"
   ]
  },
  {
   "cell_type": "code",
   "execution_count": null,
   "metadata": {},
   "outputs": [],
   "source": []
  }
 ],
 "metadata": {
  "kernelspec": {
   "display_name": "Python 3",
   "language": "python",
   "name": "python3"
  },
  "language_info": {
   "codemirror_mode": {
    "name": "ipython",
    "version": 3
   },
   "file_extension": ".py",
   "mimetype": "text/x-python",
   "name": "python",
   "nbconvert_exporter": "python",
   "pygments_lexer": "ipython3",
   "version": "3.7.3"
  }
 },
 "nbformat": 4,
 "nbformat_minor": 2
}
